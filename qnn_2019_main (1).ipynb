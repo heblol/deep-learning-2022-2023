{
  "nbformat": 4,
  "nbformat_minor": 0,
  "metadata": {
    "colab": {
      "provenance": [],
      "toc_visible": true
    },
    "kernelspec": {
      "name": "python3",
      "display_name": "Python 3"
    },
    "language_info": {
      "name": "python"
    },
    "accelerator": "TPU",
    "gpuClass": "standard",
    "widgets": {
      "application/vnd.jupyter.widget-state+json": {
        "e2e72471fdda4a7dab5c3b0fb62fb1a3": {
          "model_module": "@jupyter-widgets/controls",
          "model_name": "HBoxModel",
          "model_module_version": "1.5.0",
          "state": {
            "_dom_classes": [],
            "_model_module": "@jupyter-widgets/controls",
            "_model_module_version": "1.5.0",
            "_model_name": "HBoxModel",
            "_view_count": null,
            "_view_module": "@jupyter-widgets/controls",
            "_view_module_version": "1.5.0",
            "_view_name": "HBoxView",
            "box_style": "",
            "children": [
              "IPY_MODEL_3a84ba0083e44e3dabda469955121d0f",
              "IPY_MODEL_7644e8416c60424296a581cb67860851",
              "IPY_MODEL_39eb1eb091444e819ff8cb0b2a00f2b5"
            ],
            "layout": "IPY_MODEL_cbf221ec26354f7b94aaa1e39aa48f97"
          }
        },
        "3a84ba0083e44e3dabda469955121d0f": {
          "model_module": "@jupyter-widgets/controls",
          "model_name": "HTMLModel",
          "model_module_version": "1.5.0",
          "state": {
            "_dom_classes": [],
            "_model_module": "@jupyter-widgets/controls",
            "_model_module_version": "1.5.0",
            "_model_name": "HTMLModel",
            "_view_count": null,
            "_view_module": "@jupyter-widgets/controls",
            "_view_module_version": "1.5.0",
            "_view_name": "HTMLView",
            "description": "",
            "description_tooltip": null,
            "layout": "IPY_MODEL_52e1620b60174c3b8abf8535d4fd9d0b",
            "placeholder": "​",
            "style": "IPY_MODEL_af85fe4cc741497a9d07d4c55fd27d9a",
            "value": "100%"
          }
        },
        "7644e8416c60424296a581cb67860851": {
          "model_module": "@jupyter-widgets/controls",
          "model_name": "FloatProgressModel",
          "model_module_version": "1.5.0",
          "state": {
            "_dom_classes": [],
            "_model_module": "@jupyter-widgets/controls",
            "_model_module_version": "1.5.0",
            "_model_name": "FloatProgressModel",
            "_view_count": null,
            "_view_module": "@jupyter-widgets/controls",
            "_view_module_version": "1.5.0",
            "_view_name": "ProgressView",
            "bar_style": "success",
            "description": "",
            "description_tooltip": null,
            "layout": "IPY_MODEL_6d9df0f6820342f3a65e5b391d2f781f",
            "max": 170498071,
            "min": 0,
            "orientation": "horizontal",
            "style": "IPY_MODEL_a79371d0b981469e8a7906e432f13288",
            "value": 170498071
          }
        },
        "39eb1eb091444e819ff8cb0b2a00f2b5": {
          "model_module": "@jupyter-widgets/controls",
          "model_name": "HTMLModel",
          "model_module_version": "1.5.0",
          "state": {
            "_dom_classes": [],
            "_model_module": "@jupyter-widgets/controls",
            "_model_module_version": "1.5.0",
            "_model_name": "HTMLModel",
            "_view_count": null,
            "_view_module": "@jupyter-widgets/controls",
            "_view_module_version": "1.5.0",
            "_view_name": "HTMLView",
            "description": "",
            "description_tooltip": null,
            "layout": "IPY_MODEL_e166b204898f459bbcd426797597a2dd",
            "placeholder": "​",
            "style": "IPY_MODEL_50f9026e6b1249bd981ee4e60c248f6c",
            "value": " 170498071/170498071 [00:06&lt;00:00, 23324300.46it/s]"
          }
        },
        "cbf221ec26354f7b94aaa1e39aa48f97": {
          "model_module": "@jupyter-widgets/base",
          "model_name": "LayoutModel",
          "model_module_version": "1.2.0",
          "state": {
            "_model_module": "@jupyter-widgets/base",
            "_model_module_version": "1.2.0",
            "_model_name": "LayoutModel",
            "_view_count": null,
            "_view_module": "@jupyter-widgets/base",
            "_view_module_version": "1.2.0",
            "_view_name": "LayoutView",
            "align_content": null,
            "align_items": null,
            "align_self": null,
            "border": null,
            "bottom": null,
            "display": null,
            "flex": null,
            "flex_flow": null,
            "grid_area": null,
            "grid_auto_columns": null,
            "grid_auto_flow": null,
            "grid_auto_rows": null,
            "grid_column": null,
            "grid_gap": null,
            "grid_row": null,
            "grid_template_areas": null,
            "grid_template_columns": null,
            "grid_template_rows": null,
            "height": null,
            "justify_content": null,
            "justify_items": null,
            "left": null,
            "margin": null,
            "max_height": null,
            "max_width": null,
            "min_height": null,
            "min_width": null,
            "object_fit": null,
            "object_position": null,
            "order": null,
            "overflow": null,
            "overflow_x": null,
            "overflow_y": null,
            "padding": null,
            "right": null,
            "top": null,
            "visibility": null,
            "width": null
          }
        },
        "52e1620b60174c3b8abf8535d4fd9d0b": {
          "model_module": "@jupyter-widgets/base",
          "model_name": "LayoutModel",
          "model_module_version": "1.2.0",
          "state": {
            "_model_module": "@jupyter-widgets/base",
            "_model_module_version": "1.2.0",
            "_model_name": "LayoutModel",
            "_view_count": null,
            "_view_module": "@jupyter-widgets/base",
            "_view_module_version": "1.2.0",
            "_view_name": "LayoutView",
            "align_content": null,
            "align_items": null,
            "align_self": null,
            "border": null,
            "bottom": null,
            "display": null,
            "flex": null,
            "flex_flow": null,
            "grid_area": null,
            "grid_auto_columns": null,
            "grid_auto_flow": null,
            "grid_auto_rows": null,
            "grid_column": null,
            "grid_gap": null,
            "grid_row": null,
            "grid_template_areas": null,
            "grid_template_columns": null,
            "grid_template_rows": null,
            "height": null,
            "justify_content": null,
            "justify_items": null,
            "left": null,
            "margin": null,
            "max_height": null,
            "max_width": null,
            "min_height": null,
            "min_width": null,
            "object_fit": null,
            "object_position": null,
            "order": null,
            "overflow": null,
            "overflow_x": null,
            "overflow_y": null,
            "padding": null,
            "right": null,
            "top": null,
            "visibility": null,
            "width": null
          }
        },
        "af85fe4cc741497a9d07d4c55fd27d9a": {
          "model_module": "@jupyter-widgets/controls",
          "model_name": "DescriptionStyleModel",
          "model_module_version": "1.5.0",
          "state": {
            "_model_module": "@jupyter-widgets/controls",
            "_model_module_version": "1.5.0",
            "_model_name": "DescriptionStyleModel",
            "_view_count": null,
            "_view_module": "@jupyter-widgets/base",
            "_view_module_version": "1.2.0",
            "_view_name": "StyleView",
            "description_width": ""
          }
        },
        "6d9df0f6820342f3a65e5b391d2f781f": {
          "model_module": "@jupyter-widgets/base",
          "model_name": "LayoutModel",
          "model_module_version": "1.2.0",
          "state": {
            "_model_module": "@jupyter-widgets/base",
            "_model_module_version": "1.2.0",
            "_model_name": "LayoutModel",
            "_view_count": null,
            "_view_module": "@jupyter-widgets/base",
            "_view_module_version": "1.2.0",
            "_view_name": "LayoutView",
            "align_content": null,
            "align_items": null,
            "align_self": null,
            "border": null,
            "bottom": null,
            "display": null,
            "flex": null,
            "flex_flow": null,
            "grid_area": null,
            "grid_auto_columns": null,
            "grid_auto_flow": null,
            "grid_auto_rows": null,
            "grid_column": null,
            "grid_gap": null,
            "grid_row": null,
            "grid_template_areas": null,
            "grid_template_columns": null,
            "grid_template_rows": null,
            "height": null,
            "justify_content": null,
            "justify_items": null,
            "left": null,
            "margin": null,
            "max_height": null,
            "max_width": null,
            "min_height": null,
            "min_width": null,
            "object_fit": null,
            "object_position": null,
            "order": null,
            "overflow": null,
            "overflow_x": null,
            "overflow_y": null,
            "padding": null,
            "right": null,
            "top": null,
            "visibility": null,
            "width": null
          }
        },
        "a79371d0b981469e8a7906e432f13288": {
          "model_module": "@jupyter-widgets/controls",
          "model_name": "ProgressStyleModel",
          "model_module_version": "1.5.0",
          "state": {
            "_model_module": "@jupyter-widgets/controls",
            "_model_module_version": "1.5.0",
            "_model_name": "ProgressStyleModel",
            "_view_count": null,
            "_view_module": "@jupyter-widgets/base",
            "_view_module_version": "1.2.0",
            "_view_name": "StyleView",
            "bar_color": null,
            "description_width": ""
          }
        },
        "e166b204898f459bbcd426797597a2dd": {
          "model_module": "@jupyter-widgets/base",
          "model_name": "LayoutModel",
          "model_module_version": "1.2.0",
          "state": {
            "_model_module": "@jupyter-widgets/base",
            "_model_module_version": "1.2.0",
            "_model_name": "LayoutModel",
            "_view_count": null,
            "_view_module": "@jupyter-widgets/base",
            "_view_module_version": "1.2.0",
            "_view_name": "LayoutView",
            "align_content": null,
            "align_items": null,
            "align_self": null,
            "border": null,
            "bottom": null,
            "display": null,
            "flex": null,
            "flex_flow": null,
            "grid_area": null,
            "grid_auto_columns": null,
            "grid_auto_flow": null,
            "grid_auto_rows": null,
            "grid_column": null,
            "grid_gap": null,
            "grid_row": null,
            "grid_template_areas": null,
            "grid_template_columns": null,
            "grid_template_rows": null,
            "height": null,
            "justify_content": null,
            "justify_items": null,
            "left": null,
            "margin": null,
            "max_height": null,
            "max_width": null,
            "min_height": null,
            "min_width": null,
            "object_fit": null,
            "object_position": null,
            "order": null,
            "overflow": null,
            "overflow_x": null,
            "overflow_y": null,
            "padding": null,
            "right": null,
            "top": null,
            "visibility": null,
            "width": null
          }
        },
        "50f9026e6b1249bd981ee4e60c248f6c": {
          "model_module": "@jupyter-widgets/controls",
          "model_name": "DescriptionStyleModel",
          "model_module_version": "1.5.0",
          "state": {
            "_model_module": "@jupyter-widgets/controls",
            "_model_module_version": "1.5.0",
            "_model_name": "DescriptionStyleModel",
            "_view_count": null,
            "_view_module": "@jupyter-widgets/base",
            "_view_module_version": "1.2.0",
            "_view_name": "StyleView",
            "description_width": ""
          }
        }
      }
    }
  },
  "cells": [
    {
      "cell_type": "markdown",
      "source": [
        "# Quaternion-Neural-Networks\n",
        "\n",
        "## Group 43\n",
        "\n",
        "\n",
        "source ([2019 code](https://github.com/heblol/Pytorch-Quaternion-Neural-Networks/blob/master/core_qnn/quaternion_layers.py)) - pytorch  \n",
        "\n",
        "source ([2018 code](https://github.com/XYZ387/QuaternionCNN_Keras/blob/master/cifar10_cnn.py)) - tensorflow\n",
        "\n",
        "<!-- @inproceedings{\n",
        "parcollet2018quaternion,\n",
        "title={Quaternion Recurrent Neural Networks},\n",
        "author={Titouan Parcollet and Mirco Ravanelli and Mohamed Morchid and Georges Linarès and Chiheb Trabelsi and Renato De Mori and Yoshua Bengio},\n",
        "booktitle={International Conference on Learning Representations},\n",
        "year={2019},\n",
        "url={https://openreview.net/forum?id=ByMHvs0cFQ},\n",
        "} -->\n",
        "\n"
      ],
      "metadata": {
        "id": "THrCEae3Acau"
      }
    },
    {
      "cell_type": "code",
      "source": [
        "##########################################################\n",
        "# pytorch-qnn v1.0\n",
        "# Titouan Parcollet\n",
        "# LIA, Université d'Avignon et des Pays du Vaucluse\n",
        "# ORKIS, Aix-en-provence\n",
        "# October 2018\n",
        "##########################################################\n",
        "\n",
        "import numpy                   as np\n",
        "from   numpy.random            import RandomState\n",
        "import torch\n",
        "from   torch.autograd           import Variable\n",
        "import torch.nn.functional      as F\n",
        "import torch.nn                 as nn\n",
        "from   torch.nn.parameter       import Parameter\n",
        "from   torch.nn                 import Module\n",
        "\n",
        "\n",
        "import math\n",
        "import sys\n",
        "\n",
        "# Imports for the quaternion_ops\n",
        "import torch.nn as nn\n",
        "from scipy.stats import chi\n",
        "import pdb"
      ],
      "metadata": {
        "id": "iHg7-Z-9AUqU"
      },
      "execution_count": null,
      "outputs": []
    },
    {
      "cell_type": "markdown",
      "source": [
        "# Import quaternion ops\n",
        "core_qnn/quaternion_ops.py\n",
        "\n",
        "I think these are helper functions."
      ],
      "metadata": {
        "id": "qTPSKwNrfsZx"
      }
    },
    {
      "cell_type": "code",
      "source": [
        "def q_normalize(input, channel=1):\n",
        "\n",
        "    r = get_r(input)\n",
        "    i = get_i(input)\n",
        "    j = get_j(input)\n",
        "    k = get_k(input)\n",
        "\n",
        "    norm = torch.sqrt(r*r + i*i + j*j + k*k + 0.0001)\n",
        "    r = r / norm\n",
        "    i = i / norm\n",
        "    j = j / norm\n",
        "    k = k / norm\n",
        "\n",
        "    return torch.cat([r,i,j,k], dim=channel)\n",
        "\n",
        "\n",
        "def check_input(input):\n",
        "\n",
        "    if input.dim() not in {2, 3, 4, 5}:\n",
        "        raise RuntimeError(\n",
        "            \"Quaternion linear accepts only input of dimension 2 or 3. Quaternion conv accepts up to 5 dim \"\n",
        "            \" input.dim = \" + str(input.dim())\n",
        "        )\n",
        "\n",
        "    if input.dim() < 4:\n",
        "        nb_hidden = input.size()[-1]\n",
        "    else:\n",
        "        nb_hidden = input.size()[1]\n",
        "\n",
        "    if nb_hidden % 4 != 0:\n",
        "        raise RuntimeError(\n",
        "            \"Quaternion Tensors must be divisible by 4.\"\n",
        "            \" input.size()[1] = \" + str(nb_hidden)\n",
        "        )\n",
        "#\n",
        "# Getters\n",
        "#\n",
        "def get_r(input):\n",
        "    check_input(input)\n",
        "    if input.dim() < 4:\n",
        "        nb_hidden = input.size()[-1]\n",
        "    else:\n",
        "        nb_hidden = input.size()[1]\n",
        "\n",
        "    if input.dim() == 2:\n",
        "        return input.narrow(1, 0, nb_hidden // 4)\n",
        "    if input.dim() == 3:\n",
        "        return input.narrow(2, 0, nb_hidden // 4)\n",
        "    if input.dim() >= 4:\n",
        "        return input.narrow(1, 0, nb_hidden // 4)\n",
        "\n",
        "\n",
        "def get_i(input):\n",
        "    if input.dim() < 4:\n",
        "        nb_hidden = input.size()[-1]\n",
        "    else:\n",
        "        nb_hidden = input.size()[1]\n",
        "    if input.dim() == 2:\n",
        "        return input.narrow(1, nb_hidden // 4, nb_hidden // 4)\n",
        "    if input.dim() == 3:\n",
        "        return input.narrow(2, nb_hidden // 4, nb_hidden // 4)\n",
        "    if input.dim() >= 4:\n",
        "        return input.narrow(1, nb_hidden // 4, nb_hidden // 4)\n",
        "\n",
        "def get_j(input):\n",
        "    check_input(input)\n",
        "    if input.dim() < 4:\n",
        "        nb_hidden = input.size()[-1]\n",
        "    else:\n",
        "        nb_hidden = input.size()[1]\n",
        "    if input.dim() == 2:\n",
        "        return input.narrow(1, nb_hidden // 2, nb_hidden // 4)\n",
        "    if input.dim() == 3:\n",
        "        return input.narrow(2, nb_hidden // 2, nb_hidden // 4)\n",
        "    if input.dim() >= 4:\n",
        "        return input.narrow(1, nb_hidden // 2, nb_hidden // 4)\n",
        "\n",
        "def get_k(input):\n",
        "    check_input(input)\n",
        "    if input.dim() < 4:\n",
        "        nb_hidden = input.size()[-1]\n",
        "    else:\n",
        "        nb_hidden = input.size()[1]\n",
        "    if input.dim() == 2:\n",
        "        return input.narrow(1, nb_hidden - nb_hidden // 4, nb_hidden // 4)\n",
        "    if input.dim() == 3:\n",
        "        return input.narrow(2, nb_hidden - nb_hidden // 4, nb_hidden // 4)\n",
        "    if input.dim() >= 4:\n",
        "        return input.narrow(1, nb_hidden - nb_hidden // 4, nb_hidden // 4)\n",
        "\n",
        "\n",
        "def get_modulus(input, vector_form=False):\n",
        "    check_input(input)\n",
        "    r = get_r(input)\n",
        "    i = get_i(input)\n",
        "    j = get_j(input)\n",
        "    k = get_k(input)\n",
        "    if vector_form:\n",
        "        return torch.sqrt(r * r + i * i + j * j + k * k)\n",
        "    else:\n",
        "        return torch.sqrt((r * r + i * i + j * j + k * k).sum(dim=0))\n",
        "\n",
        "\n",
        "def get_normalized(input, eps=0.0001):\n",
        "    check_input(input)\n",
        "    data_modulus = get_modulus(input)\n",
        "    if input.dim() == 2:\n",
        "        data_modulus_repeated = data_modulus.repeat(1, 4)\n",
        "    elif input.dim() == 3:\n",
        "        data_modulus_repeated = data_modulus.repeat(1, 1, 4)\n",
        "    return input / (data_modulus_repeated.expand_as(input) + eps)\n",
        "\n",
        "\n",
        "def quaternion_exp(input):\n",
        "\n",
        "    r      = get_r(input)\n",
        "    i      = get_i(input)\n",
        "    j      = get_j(input)\n",
        "    k      = get_k(input)\n",
        "\n",
        "\n",
        "    norm_v = torch.sqrt(i*i+j*j+k*k) + 0.0001\n",
        "    exp    = torch.exp(r)\n",
        "\n",
        "    r      = torch.cos(norm_v)\n",
        "    i      = (i / norm_v) * torch.sin(norm_v)\n",
        "    j      = (j / norm_v) * torch.sin(norm_v)\n",
        "    k      = (k / norm_v) * torch.sin(norm_v)\n",
        "\n",
        "\n",
        "    return torch.cat([exp*r, exp*i, exp*j, exp*k], dim=1)\n",
        "\n",
        "\n",
        "def quaternion_conv(input, r_weight, i_weight, j_weight, k_weight, bias, stride,\n",
        "                    padding, groups, dilatation):\n",
        "    \"\"\"\n",
        "    Applies a quaternion convolution to the incoming data:\n",
        "    \"\"\"\n",
        "\n",
        "    cat_kernels_4_r = torch.cat([r_weight, -i_weight, -j_weight, -k_weight], dim=1)\n",
        "    cat_kernels_4_i = torch.cat([i_weight,  r_weight, -k_weight, j_weight], dim=1)\n",
        "    cat_kernels_4_j = torch.cat([j_weight,  k_weight, r_weight, -i_weight], dim=1)\n",
        "    cat_kernels_4_k = torch.cat([k_weight,  -j_weight, i_weight, r_weight], dim=1)\n",
        "\n",
        "    cat_kernels_4_quaternion   = torch.cat([cat_kernels_4_r, cat_kernels_4_i, cat_kernels_4_j, cat_kernels_4_k], dim=0)\n",
        "\n",
        "    if   input.dim() == 3:\n",
        "        convfunc = F.conv1d\n",
        "    elif input.dim() == 4:\n",
        "        convfunc = F.conv2d\n",
        "    elif input.dim() == 5:\n",
        "        convfunc = F.conv3d\n",
        "    else:\n",
        "        raise Exception(\"The convolutional input is either 3, 4 or 5 dimensions.\"\n",
        "                        \" input.dim = \" + str(input.dim()))\n",
        "\n",
        "    return convfunc(input, cat_kernels_4_quaternion, bias, stride, padding, dilatation, groups)\n",
        "\n",
        "def quaternion_transpose_conv(input, r_weight, i_weight, j_weight, k_weight, bias, stride,\n",
        "                    padding, output_padding, groups, dilatation):\n",
        "    \"\"\"\n",
        "    Applies a quaternion trasposed convolution to the incoming data:\n",
        "    \"\"\"\n",
        "\n",
        "    cat_kernels_4_r = torch.cat([r_weight, -i_weight, -j_weight, -k_weight], dim=1)\n",
        "    cat_kernels_4_i = torch.cat([i_weight,  r_weight, -k_weight, j_weight], dim=1)\n",
        "    cat_kernels_4_j = torch.cat([j_weight,  k_weight, r_weight, -i_weight], dim=1)\n",
        "    cat_kernels_4_k = torch.cat([k_weight,  -j_weight, i_weight, r_weight], dim=1)\n",
        "    cat_kernels_4_quaternion   = torch.cat([cat_kernels_4_r, cat_kernels_4_i, cat_kernels_4_j, cat_kernels_4_k], dim=0)\n",
        "\n",
        "\n",
        "    if   input.dim() == 3:\n",
        "        convfunc = F.conv_transpose1d\n",
        "    elif input.dim() == 4:\n",
        "        convfunc = F.conv_transpose2d\n",
        "    elif input.dim() == 5:\n",
        "        convfunc = F.conv_transpose3d\n",
        "    else:\n",
        "        raise Exception(\"The convolutional input is either 3, 4 or 5 dimensions.\"\n",
        "                        \" input.dim = \" + str(input.dim()))\n",
        "\n",
        "    return convfunc(input, cat_kernels_4_quaternion, bias, stride, padding, output_padding, groups, dilatation)\n",
        "\n",
        "\n",
        "def quaternion_conv_rotation(input, zero_kernel, r_weight, i_weight, j_weight, k_weight, bias, stride,\n",
        "                    padding, groups, dilatation, quaternion_format, scale=None):\n",
        "    \"\"\"\n",
        "    Applies a quaternion rotation and convolution transformation to the incoming data:\n",
        "    The rotation W*x*W^t can be replaced by R*x following:\n",
        "    https://en.wikipedia.org/wiki/Quaternions_and_spatial_rotation\n",
        "    Works for unitary and non unitary weights.\n",
        "    The initial size of the input must be a multiple of 3 if quaternion_format = False and\n",
        "    4 if quaternion_format = True.\n",
        "    \"\"\"\n",
        "\n",
        "    square_r          = (r_weight*r_weight)\n",
        "    square_i          = (i_weight*i_weight)\n",
        "    square_j          = (j_weight*j_weight)\n",
        "    square_k          = (k_weight*k_weight)\n",
        "\n",
        "    norm              = torch.sqrt(square_r+square_i+square_j+square_k + 0.0001)\n",
        "\n",
        "    #print(norm)\n",
        "\n",
        "    r_n_weight          = (r_weight / norm)\n",
        "    i_n_weight          = (i_weight / norm)\n",
        "    j_n_weight          = (j_weight / norm)\n",
        "    k_n_weight          = (k_weight / norm)\n",
        "\n",
        "    norm_factor       = 2.0\n",
        "\n",
        "    square_i          = norm_factor*(i_n_weight*i_n_weight)\n",
        "    square_j          = norm_factor*(j_n_weight*j_n_weight)\n",
        "    square_k          = norm_factor*(k_n_weight*k_n_weight)\n",
        "\n",
        "    ri                = (norm_factor*r_n_weight*i_n_weight)\n",
        "    rj                = (norm_factor*r_n_weight*j_n_weight)\n",
        "    rk                = (norm_factor*r_n_weight*k_n_weight)\n",
        "\n",
        "    ij                = (norm_factor*i_n_weight*j_n_weight)\n",
        "    ik                = (norm_factor*i_n_weight*k_n_weight)\n",
        "\n",
        "    jk                = (norm_factor*j_n_weight*k_n_weight)\n",
        "\n",
        "    if quaternion_format:\n",
        "        if scale is not None:\n",
        "            rot_kernel_1  = torch.cat([zero_kernel, scale * (1.0 - (square_j + square_k)), scale *(ij-rk), scale *(ik+rj)], dim=1)\n",
        "            rot_kernel_2  = torch.cat([zero_kernel, scale *(ij+rk), scale *(1.0 - (square_i + square_k)), scale *(jk-ri)], dim=1)\n",
        "            rot_kernel_3  = torch.cat([zero_kernel, scale *(ik-rj), scale *(jk+ri), scale *(1.0 - (square_i + square_j))], dim=1)\n",
        "        else:\n",
        "            rot_kernel_1  = torch.cat([zero_kernel, (1.0 - (square_j + square_k)), (ij-rk), (ik+rj)], dim=1)\n",
        "            rot_kernel_2  = torch.cat([zero_kernel, (ij+rk), (1.0 - (square_i + square_k)), (jk-ri)], dim=1)\n",
        "            rot_kernel_3  = torch.cat([zero_kernel, (ik-rj), (jk+ri), (1.0 - (square_i + square_j))], dim=1)\n",
        "\n",
        "        zero_kernel2  = torch.cat([zero_kernel, zero_kernel, zero_kernel, zero_kernel], dim=1)\n",
        "        global_rot_kernel = torch.cat([zero_kernel2, rot_kernel_1, rot_kernel_2, rot_kernel_3], dim=0)\n",
        "\n",
        "    else:\n",
        "        if scale is not None:\n",
        "            rot_kernel_1  = torch.cat([scale * (1.0 - (square_j + square_k)), scale *(ij-rk), scale *(ik+rj)], dim=0)\n",
        "            rot_kernel_2  = torch.cat([scale *(ij+rk), scale *(1.0 - (square_i + square_k)), scale *(jk-ri)], dim=0)\n",
        "            rot_kernel_3  = torch.cat([scale *(ik-rj), scale *(jk+ri), scale *(1.0 - (square_i + square_j))], dim=0)\n",
        "        else:\n",
        "            rot_kernel_1  = torch.cat([1.0 - (square_j + square_k), (ij-rk), (ik+rj)], dim=0)\n",
        "            rot_kernel_2  = torch.cat([(ij+rk), 1.0 - (square_i + square_k), (jk-ri)], dim=0)\n",
        "            rot_kernel_3  = torch.cat([(ik-rj), (jk+ri), (1.0 - (square_i + square_j))], dim=0)\n",
        "\n",
        "        global_rot_kernel = torch.cat([rot_kernel_1, rot_kernel_2, rot_kernel_3], dim=0)\n",
        "\n",
        "    #print(input.shape)\n",
        "    #print(square_r.shape)\n",
        "    #print(global_rot_kernel.shape)\n",
        "\n",
        "    if   input.dim() == 3:\n",
        "        convfunc = F.conv1d\n",
        "    elif input.dim() == 4:\n",
        "        convfunc = F.conv2d\n",
        "    elif input.dim() == 5:\n",
        "        convfunc = F.conv3d\n",
        "    else:\n",
        "        raise Exception(\"The convolutional input is either 3, 4 or 5 dimensions.\"\n",
        "                        \" input.dim = \" + str(input.dim()))\n",
        "\n",
        "    return convfunc(input, global_rot_kernel, bias, stride, padding, dilatation, groups)\n",
        "\n",
        "def quaternion_transpose_conv_rotation(input, zero_kernel, r_weight, i_weight, j_weight, k_weight, bias, stride,\n",
        "                    padding, output_padding, groups, dilatation, quaternion_format):\n",
        "    \"\"\"\n",
        "    Applies a quaternion rotation and transposed convolution transformation to the incoming data:\n",
        "    The rotation W*x*W^t can be replaced by R*x following:\n",
        "    https://en.wikipedia.org/wiki/Quaternions_and_spatial_rotation\n",
        "    Works for unitary and non unitary weights.\n",
        "    The initial size of the input must be a multiple of 3 if quaternion_format = False and\n",
        "    4 if quaternion_format = True.\n",
        "    \"\"\"\n",
        "\n",
        "    square_r          = (r_weight*r_weight)\n",
        "    square_i          = (i_weight*i_weight)\n",
        "    square_j          = (j_weight*j_weight)\n",
        "    square_k          = (k_weight*k_weight)\n",
        "\n",
        "    norm              = torch.sqrt(square_r+square_i+square_j+square_k + 0.0001)\n",
        "\n",
        "    r_weight          = (r_weight / norm)\n",
        "    i_weight          = (i_weight / norm)\n",
        "    j_weight          = (j_weight / norm)\n",
        "    k_weight          = (k_weight / norm)\n",
        "\n",
        "    norm_factor       = 2.0\n",
        "\n",
        "    square_i          = norm_factor*(i_weight*i_weight)\n",
        "    square_j          = norm_factor*(j_weight*j_weight)\n",
        "    square_k          = norm_factor*(k_weight*k_weight)\n",
        "\n",
        "    ri                = (norm_factor*r_weight*i_weight)\n",
        "    rj                = (norm_factor*r_weight*j_weight)\n",
        "    rk                = (norm_factor*r_weight*k_weight)\n",
        "\n",
        "    ij                = (norm_factor*i_weight*j_weight)\n",
        "    ik                = (norm_factor*i_weight*k_weight)\n",
        "\n",
        "    jk                = (norm_factor*j_weight*k_weight)\n",
        "\n",
        "    if quaternion_format:\n",
        "        rot_kernel_1  = torch.cat([zero_kernel, 1.0 - (square_j + square_k), ij-rk, ik+rj], dim=1)\n",
        "        rot_kernel_2  = torch.cat([zero_kernel, ij+rk, 1.0 - (square_i + square_k), jk-ri], dim=1)\n",
        "        rot_kernel_3  = torch.cat([zero_kernel, ik-rj, jk+ri, 1.0 - (square_i + square_j)], dim=1)\n",
        "\n",
        "        zero_kernel2  = torch.zeros(rot_kernel_1.shape).cuda()\n",
        "        global_rot_kernel = torch.cat([zero_kernel2, rot_kernel_1, rot_kernel_2, rot_kernel_3], dim=0)\n",
        "    else:\n",
        "        rot_kernel_1  = torch.cat([1.0 - (square_j + square_k), ij-rk, ik+rj], dim=1)\n",
        "        rot_kernel_2  = torch.cat([ij+rk, 1.0 - (square_i + square_k), jk-ri], dim=1)\n",
        "        rot_kernel_3  = torch.cat([ik-rj, jk+ri, 1.0 - (square_i + square_j)], dim=1)\n",
        "        global_rot_kernel = torch.cat([rot_kernel_1, rot_kernel_2, rot_kernel_3], dim=0)\n",
        "\n",
        "\n",
        "    if   input.dim() == 3:\n",
        "        convfunc = F.conv_transpose1d\n",
        "    elif input.dim() == 4:\n",
        "        convfunc = F.conv_transpose2d\n",
        "    elif input.dim() == 5:\n",
        "        convfunc = F.conv_transpose3d\n",
        "    else:\n",
        "        raise Exception(\"The convolutional input is either 3, 4 or 5 dimensions.\"\n",
        "                        \" input.dim = \" + str(input.dim()))\n",
        "\n",
        "    return convfunc(input, cat_kernels_4_quaternion, bias, stride, padding, output_padding, groups, dilatation)\n",
        "\n",
        "\n",
        "def quaternion_linear(input, r_weight, i_weight, j_weight, k_weight, bias=True):\n",
        "    \"\"\"\n",
        "    Applies a quaternion linear transformation to the incoming data:\n",
        "    It is important to notice that the forward phase of a QNN is defined\n",
        "    as W * Inputs (with * equal to the Hamilton product). The constructed\n",
        "    cat_kernels_4_quaternion is a modified version of the quaternion representation\n",
        "    so when we do torch.mm(Input,W) it's equivalent to W * Inputs.\n",
        "    \"\"\"\n",
        "\n",
        "    cat_kernels_4_r = torch.cat([r_weight, -i_weight, -j_weight, -k_weight], dim=0)\n",
        "    cat_kernels_4_i = torch.cat([i_weight,  r_weight, -k_weight, j_weight], dim=0)\n",
        "    cat_kernels_4_j = torch.cat([j_weight,  k_weight, r_weight, -i_weight], dim=0)\n",
        "    cat_kernels_4_k = torch.cat([k_weight,  -j_weight, i_weight, r_weight], dim=0)\n",
        "    cat_kernels_4_quaternion   = torch.cat([cat_kernels_4_r, cat_kernels_4_i, cat_kernels_4_j, cat_kernels_4_k], dim=1)\n",
        "\n",
        "    if input.dim() == 2 :\n",
        "\n",
        "        if bias is not None:\n",
        "            return torch.addmm(bias, input, cat_kernels_4_quaternion)\n",
        "        else:\n",
        "            return torch.mm(input, cat_kernels_4_quaternion)\n",
        "    else:\n",
        "        output = torch.matmul(input, cat_kernels_4_quaternion)\n",
        "        if bias is not None:\n",
        "            return output+bias\n",
        "        else:\n",
        "            return output\n",
        "\n",
        "\n",
        "def quaternion_linear_rotation(input, zero_kernel, r_weight, i_weight, j_weight, k_weight, bias=None,\n",
        "                               quaternion_format=False, scale=None):\n",
        "    \"\"\"\n",
        "    Applies a quaternion rotation transformation to the incoming data:\n",
        "    The rotation W*x*W^t can be replaced by R*x following:\n",
        "    https://en.wikipedia.org/wiki/Quaternions_and_spatial_rotation\n",
        "    Works for unitary and non unitary weights.\n",
        "    The initial size of the input must be a multiple of 3 if quaternion_format = False and\n",
        "    4 if quaternion_format = True.\n",
        "    \"\"\"\n",
        "\n",
        "    square_r          = (r_weight*r_weight)\n",
        "    square_i          = (i_weight*i_weight)\n",
        "    square_j          = (j_weight*j_weight)\n",
        "    square_k          = (k_weight*k_weight)\n",
        "\n",
        "    norm              = torch.sqrt(square_r+square_i+square_j+square_k + 0.0001)\n",
        "\n",
        "    r_n_weight          = (r_weight / norm)\n",
        "    i_n_weight          = (i_weight / norm)\n",
        "    j_n_weight          = (j_weight / norm)\n",
        "    k_n_weight          = (k_weight / norm)\n",
        "\n",
        "    norm_factor       = 2.0\n",
        "\n",
        "    square_i          = norm_factor*(i_n_weight*i_n_weight)\n",
        "    square_j          = norm_factor*(j_n_weight*j_n_weight)\n",
        "    square_k          = norm_factor*(k_n_weight*k_n_weight)\n",
        "\n",
        "    ri                = (norm_factor*r_n_weight*i_n_weight)\n",
        "    rj                = (norm_factor*r_n_weight*j_n_weight)\n",
        "    rk                = (norm_factor*r_n_weight*k_n_weight)\n",
        "\n",
        "    ij                = (norm_factor*i_n_weight*j_n_weight)\n",
        "    ik                = (norm_factor*i_n_weight*k_n_weight)\n",
        "\n",
        "    jk                = (norm_factor*j_n_weight*k_n_weight)\n",
        "\n",
        "    if quaternion_format:\n",
        "        if scale is not None:\n",
        "            rot_kernel_1  = torch.cat([zero_kernel, scale * (1.0 - (square_j + square_k)), scale *(ij-rk), scale *(ik+rj)], dim=0)\n",
        "            rot_kernel_2  = torch.cat([zero_kernel, scale *(ij+rk), scale *(1.0 - (square_i + square_k)), scale *(jk-ri)], dim=0)\n",
        "            rot_kernel_3  = torch.cat([zero_kernel, scale *(ik-rj), scale *(jk+ri), scale *(1.0 - (square_i + square_j))], dim=0)\n",
        "        else:\n",
        "            rot_kernel_1  = torch.cat([zero_kernel, (1.0 - (square_j + square_k)), (ij-rk), (ik+rj)], dim=0)\n",
        "            rot_kernel_2  = torch.cat([zero_kernel, (ij+rk), (1.0 - (square_i + square_k)), (jk-ri)], dim=0)\n",
        "            rot_kernel_3  = torch.cat([zero_kernel, (ik-rj), (jk+ri), (1.0 - (square_i + square_j))], dim=0)\n",
        "\n",
        "        zero_kernel2  = torch.cat([zero_kernel, zero_kernel, zero_kernel, zero_kernel], dim=0)\n",
        "        global_rot_kernel = torch.cat([zero_kernel2, rot_kernel_1, rot_kernel_2, rot_kernel_3], dim=1)\n",
        "\n",
        "    else:\n",
        "        if scale is not None:\n",
        "            rot_kernel_1  = torch.cat([scale * (1.0 - (square_j + square_k)), scale *(ij-rk), scale *(ik+rj)], dim=0)\n",
        "            rot_kernel_2  = torch.cat([scale *(ij+rk), scale *(1.0 - (square_i + square_k)), scale *(jk-ri)], dim=0)\n",
        "            rot_kernel_3  = torch.cat([scale *(ik-rj), scale *(jk+ri), scale *(1.0 - (square_i + square_j))], dim=0)\n",
        "        else:\n",
        "            rot_kernel_1  = torch.cat([1.0 - (square_j + square_k), (ij-rk), (ik+rj)], dim=0)\n",
        "            rot_kernel_2  = torch.cat([(ij+rk), 1.0 - (square_i + square_k), (jk-ri)], dim=0)\n",
        "            rot_kernel_3  = torch.cat([(ik-rj), (jk+ri), (1.0 - (square_i + square_j))], dim=0)\n",
        "\n",
        "        global_rot_kernel = torch.cat([rot_kernel_1, rot_kernel_2, rot_kernel_3], dim=1)\n",
        "\n",
        "\n",
        "    if input.dim() == 2 :\n",
        "        if bias is not None:\n",
        "            return torch.addmm(bias, input, global_rot_kernel)\n",
        "        else:\n",
        "            return torch.mm(input, global_rot_kernel)\n",
        "    else:\n",
        "        output = torch.matmul(input, global_rot_kernel)\n",
        "        if bias is not None:\n",
        "            return output+bias\n",
        "        else:\n",
        "            return output\n",
        "\n",
        "\n",
        "\n",
        "# Custom AUTOGRAD for lower VRAM consumption\n",
        "class QuaternionLinearFunction(torch.autograd.Function):\n",
        "\n",
        "    @staticmethod\n",
        "    def forward(ctx, input, r_weight, i_weight, j_weight, k_weight, bias=None):\n",
        "        ctx.save_for_backward(input, r_weight, i_weight, j_weight, k_weight, bias)\n",
        "        check_input(input)\n",
        "        cat_kernels_4_r = torch.cat([r_weight, -i_weight, -j_weight, -k_weight], dim=0)\n",
        "        cat_kernels_4_i = torch.cat([i_weight,  r_weight, -k_weight, j_weight], dim=0)\n",
        "        cat_kernels_4_j = torch.cat([j_weight,  k_weight, r_weight, -i_weight], dim=0)\n",
        "        cat_kernels_4_k = torch.cat([k_weight,  -j_weight, i_weight, r_weight], dim=0)\n",
        "        cat_kernels_4_quaternion = torch.cat([cat_kernels_4_r, cat_kernels_4_i, cat_kernels_4_j, cat_kernels_4_k], dim=1)\n",
        "        if input.dim() == 2 :\n",
        "            if bias is not None:\n",
        "                return torch.addmm(bias, input, cat_kernels_4_quaternion)\n",
        "            else:\n",
        "                return torch.mm(input, cat_kernels_4_quaternion)\n",
        "        else:\n",
        "            output = torch.matmul(input, cat_kernels_4_quaternion)\n",
        "            if bias is not None:\n",
        "                return output+bias\n",
        "            else:\n",
        "                return output\n",
        "\n",
        "    # This function has only a single output, so it gets only one gradient\n",
        "    @staticmethod\n",
        "    def backward(ctx, grad_output):\n",
        "\n",
        "        input, r_weight, i_weight, j_weight, k_weight, bias = ctx.saved_tensors\n",
        "        grad_input = grad_weight_r = grad_weight_i = grad_weight_j = grad_weight_k = grad_bias = None\n",
        "\n",
        "        input_r = torch.cat([r_weight, -i_weight, -j_weight, -k_weight], dim=0)\n",
        "        input_i = torch.cat([i_weight,  r_weight, -k_weight, j_weight], dim=0)\n",
        "        input_j = torch.cat([j_weight,  k_weight, r_weight, -i_weight], dim=0)\n",
        "        input_k = torch.cat([k_weight,  -j_weight, i_weight, r_weight], dim=0)\n",
        "        cat_kernels_4_quaternion_T = Variable(torch.cat([input_r, input_i, input_j, input_k], dim=1).permute(1,0), requires_grad=False)\n",
        "\n",
        "        r = get_r(input)\n",
        "        i = get_i(input)\n",
        "        j = get_j(input)\n",
        "        k = get_k(input)\n",
        "        input_r = torch.cat([r, -i, -j, -k], dim=0)\n",
        "        input_i = torch.cat([i,  r, -k, j], dim=0)\n",
        "        input_j = torch.cat([j,  k, r, -i], dim=0)\n",
        "        input_k = torch.cat([k,  -j, i, r], dim=0)\n",
        "        input_mat = Variable(torch.cat([input_r, input_i, input_j, input_k], dim=1), requires_grad=False)\n",
        "\n",
        "        r = get_r(grad_output)\n",
        "        i = get_i(grad_output)\n",
        "        j = get_j(grad_output)\n",
        "        k = get_k(grad_output)\n",
        "        input_r = torch.cat([r, i, j, k], dim=1)\n",
        "        input_i = torch.cat([-i,  r, k, -j], dim=1)\n",
        "        input_j = torch.cat([-j,  -k, r, i], dim=1)\n",
        "        input_k = torch.cat([-k,  j, -i, r], dim=1)\n",
        "        grad_mat = torch.cat([input_r, input_i, input_j, input_k], dim=0)\n",
        "\n",
        "        if ctx.needs_input_grad[0]:\n",
        "            grad_input  = grad_output.mm(cat_kernels_4_quaternion_T)\n",
        "        if ctx.needs_input_grad[1]:\n",
        "            grad_weight = grad_mat.permute(1,0).mm(input_mat).permute(1,0)\n",
        "            unit_size_x = r_weight.size(0)\n",
        "            unit_size_y = r_weight.size(1)\n",
        "            grad_weight_r = grad_weight.narrow(0,0,unit_size_x).narrow(1,0,unit_size_y)\n",
        "            grad_weight_i = grad_weight.narrow(0,0,unit_size_x).narrow(1,unit_size_y,unit_size_y)\n",
        "            grad_weight_j = grad_weight.narrow(0,0,unit_size_x).narrow(1,unit_size_y*2,unit_size_y)\n",
        "            grad_weight_k = grad_weight.narrow(0,0,unit_size_x).narrow(1,unit_size_y*3,unit_size_y)\n",
        "        if ctx.needs_input_grad[5]:\n",
        "            grad_bias   = grad_output.sum(0).squeeze(0)\n",
        "\n",
        "        return grad_input, grad_weight_r, grad_weight_i, grad_weight_j, grad_weight_k, grad_bias\n",
        "\n",
        "def hamilton_product(q0, q1):\n",
        "    \"\"\"\n",
        "    Applies a Hamilton product q0 * q1:\n",
        "    Shape:\n",
        "        - q0, q1 should be (batch_size, quaternion_number)\n",
        "        (rr' - xx' - yy' - zz')  +\n",
        "        (rx' + xr' + yz' - zy')i +\n",
        "        (ry' - xz' + yr' + zx')j +\n",
        "        (rz' + xy' - yx' + zr')k +\n",
        "    \"\"\"\n",
        "\n",
        "    q1_r = get_r(q1)\n",
        "    q1_i = get_i(q1)\n",
        "    q1_j = get_j(q1)\n",
        "    q1_k = get_k(q1)\n",
        "\n",
        "    # rr', xx', yy', and zz'\n",
        "    r_base = torch.mul(q0, q1)\n",
        "    # (rr' - xx' - yy' - zz')\n",
        "    r   = get_r(r_base) - get_i(r_base) - get_j(r_base) - get_k(r_base)\n",
        "\n",
        "    # rx', xr', yz', and zy'\n",
        "    i_base = torch.mul(q0, torch.cat([q1_i, q1_r, q1_k, q1_j], dim=1))\n",
        "    # (rx' + xr' + yz' - zy')\n",
        "    i   = get_r(i_base) + get_i(i_base) + get_j(i_base) - get_k(i_base)\n",
        "\n",
        "    # ry', xz', yr', and zx'\n",
        "    j_base = torch.mul(q0, torch.cat([q1_j, q1_k, q1_r, q1_i], dim=1))\n",
        "    # (rx' + xr' + yz' - zy')\n",
        "    j   = get_r(j_base) - get_i(j_base) + get_j(j_base) + get_k(j_base)\n",
        "\n",
        "    # rz', xy', yx', and zr'\n",
        "    k_base = torch.mul(q0, torch.cat([q1_k, q1_j, q1_i, q1_r], dim=1))\n",
        "    # (rx' + xr' + yz' - zy')\n",
        "    k   = get_r(k_base) + get_i(k_base) - get_j(k_base) + get_k(k_base)\n",
        "\n",
        "    return torch.cat([r, i, j, k], dim=1)\n",
        "\n",
        "#\n",
        "# PARAMETERS INITIALIZATION\n",
        "#\n",
        "\n",
        "def unitary_init(in_features, out_features, rng, kernel_size=None, criterion='he'):\n",
        "\n",
        "    if kernel_size is not None:\n",
        "        receptive_field = np.prod(kernel_size)\n",
        "        fan_in          = in_features  * receptive_field\n",
        "        fan_out         = out_features * receptive_field\n",
        "    else:\n",
        "        fan_in          = in_features\n",
        "        fan_out         = out_features\n",
        "\n",
        "\n",
        "    if kernel_size is None:\n",
        "        kernel_shape = (in_features, out_features)\n",
        "    else:\n",
        "        if type(kernel_size) is int:\n",
        "            kernel_shape = (out_features, in_features) + tuple((kernel_size,))\n",
        "        else:\n",
        "            kernel_shape = (out_features, in_features) + (*kernel_size,)\n",
        "\n",
        "    number_of_weights = np.prod(kernel_shape)\n",
        "    v_r = np.random.uniform(-1.0,1.0,number_of_weights)\n",
        "    v_i = np.random.uniform(-1.0,1.0,number_of_weights)\n",
        "    v_j = np.random.uniform(-1.0,1.0,number_of_weights)\n",
        "    v_k = np.random.uniform(-1.0,1.0,number_of_weights)\n",
        "\n",
        "    # Unitary quaternion\n",
        "    for i in range(0, number_of_weights):\n",
        "        norm = np.sqrt(v_r[i]**2 + v_i[i]**2 + v_j[i]**2 + v_k[i]**2)+0.0001\n",
        "        v_r[i]/= norm\n",
        "        v_i[i]/= norm\n",
        "        v_j[i]/= norm\n",
        "        v_k[i]/= norm\n",
        "    v_r = v_r.reshape(kernel_shape)\n",
        "    v_i = v_i.reshape(kernel_shape)\n",
        "    v_j = v_j.reshape(kernel_shape)\n",
        "    v_k = v_k.reshape(kernel_shape)\n",
        "\n",
        "    return (v_r, v_i, v_j, v_k)\n",
        "\n",
        "def random_init(in_features, out_features, rng, kernel_size=None, criterion='glorot'):\n",
        "\n",
        "    if kernel_size is not None:\n",
        "        receptive_field = np.prod(kernel_size)\n",
        "        fan_in          = in_features  * receptive_field\n",
        "        fan_out         = out_features * receptive_field\n",
        "    else:\n",
        "        fan_in          = in_features\n",
        "        fan_out         = out_features\n",
        "\n",
        "    if criterion == 'glorot':\n",
        "        s = 1. / np.sqrt(2*(fan_in + fan_out))\n",
        "    elif criterion == 'he':\n",
        "        s = 1. / np.sqrt(2*fan_in)\n",
        "    else:\n",
        "        raise ValueError('Invalid criterion: ' + criterion)\n",
        "\n",
        "    if kernel_size is None:\n",
        "        kernel_shape = (in_features, out_features)\n",
        "    else:\n",
        "        if type(kernel_size) is int:\n",
        "            kernel_shape = (out_features, in_features) + tuple((kernel_size,))\n",
        "        else:\n",
        "            kernel_shape = (out_features, in_features) + (*kernel_size,)\n",
        "\n",
        "    number_of_weights = np.prod(kernel_shape)\n",
        "    v_r = np.random.uniform(-1.0,1.0,number_of_weights)\n",
        "    v_i = np.random.uniform(-1.0,1.0,number_of_weights)\n",
        "    v_j = np.random.uniform(-1.0,1.0,number_of_weights)\n",
        "    v_k = np.random.uniform(-1.0,1.0,number_of_weights)\n",
        "\n",
        "\n",
        "\n",
        "    v_r = v_r.reshape(kernel_shape)\n",
        "    v_i = v_i.reshape(kernel_shape)\n",
        "    v_j = v_j.reshape(kernel_shape)\n",
        "    v_k = v_k.reshape(kernel_shape)\n",
        "\n",
        "    weight_r = v_r\n",
        "    weight_i = v_i\n",
        "    weight_j = v_j\n",
        "    weight_k = v_k\n",
        "    return (weight_r, weight_i, weight_j, weight_k)\n",
        "\n",
        "\n",
        "def quaternion_init(in_features, out_features, rng, kernel_size=None, criterion='glorot'):\n",
        "\n",
        "    if kernel_size is not None:\n",
        "        receptive_field = np.prod(kernel_size)\n",
        "        fan_in          = in_features  * receptive_field\n",
        "        fan_out         = out_features * receptive_field\n",
        "    else:\n",
        "        fan_in          = in_features\n",
        "        fan_out         = out_features\n",
        "\n",
        "    if criterion == 'glorot':\n",
        "        s = 1. / np.sqrt(2*(fan_in + fan_out))\n",
        "    elif criterion == 'he':\n",
        "        s = 1. / np.sqrt(2*fan_in)\n",
        "    else:\n",
        "        raise ValueError('Invalid criterion: ' + criterion)\n",
        "\n",
        "    rng = RandomState(np.random.randint(1,1234))\n",
        "\n",
        "    # Generating randoms and purely imaginary quaternions :\n",
        "    if kernel_size is None:\n",
        "        kernel_shape = (in_features, out_features)\n",
        "    else:\n",
        "        if type(kernel_size) is int:\n",
        "            kernel_shape = (out_features, in_features) + tuple((kernel_size,))\n",
        "        else:\n",
        "            kernel_shape = (out_features, in_features) + (*kernel_size,)\n",
        "\n",
        "    modulus = chi.rvs(4,loc=0,scale=s,size=kernel_shape)\n",
        "    number_of_weights = np.prod(kernel_shape)\n",
        "    v_i = np.random.uniform(-1.0,1.0,number_of_weights)\n",
        "    v_j = np.random.uniform(-1.0,1.0,number_of_weights)\n",
        "    v_k = np.random.uniform(-1.0,1.0,number_of_weights)\n",
        "\n",
        "    # Purely imaginary quaternions unitary\n",
        "    for i in range(0, number_of_weights):\n",
        "        norm = np.sqrt(v_i[i]**2 + v_j[i]**2 + v_k[i]**2 +0.0001)\n",
        "        v_i[i]/= norm\n",
        "        v_j[i]/= norm\n",
        "        v_k[i]/= norm\n",
        "    v_i = v_i.reshape(kernel_shape)\n",
        "    v_j = v_j.reshape(kernel_shape)\n",
        "    v_k = v_k.reshape(kernel_shape)\n",
        "\n",
        "    phase = rng.uniform(low=-np.pi, high=np.pi, size=kernel_shape)\n",
        "\n",
        "    weight_r = modulus * np.cos(phase)\n",
        "    weight_i = modulus * v_i*np.sin(phase)\n",
        "    weight_j = modulus * v_j*np.sin(phase)\n",
        "    weight_k = modulus * v_k*np.sin(phase)\n",
        "\n",
        "    return (weight_r, weight_i, weight_j, weight_k)\n",
        "\n",
        "def create_dropout_mask(dropout_p, size, rng, as_type, operation='linear'):\n",
        "    if operation == 'linear':\n",
        "        mask = rng.binomial(n=1, p=1-dropout_p, size=size)\n",
        "        return Variable(torch.from_numpy(mask).type(as_type))\n",
        "    else:\n",
        "         raise Exception(\"create_dropout_mask accepts only 'linear'. Found operation = \"\n",
        "                        + str(operation))\n",
        "\n",
        "def affect_init(r_weight, i_weight, j_weight, k_weight, init_func, rng, init_criterion):\n",
        "    if r_weight.size() != i_weight.size() or r_weight.size() != j_weight.size() or \\\n",
        "    r_weight.size() != k_weight.size() :\n",
        "         raise ValueError('The real and imaginary weights '\n",
        "                 'should have the same size . Found: r:'\n",
        "                 + str(r_weight.size()) +' i:'\n",
        "                 + str(i_weight.size()) +' j:'\n",
        "                 + str(j_weight.size()) +' k:'\n",
        "                 + str(k_weight.size()))\n",
        "\n",
        "    elif r_weight.dim() != 2:\n",
        "        raise Exception('affect_init accepts only matrices. Found dimension = '\n",
        "                        + str(r_weight.dim()))\n",
        "    kernel_size = None\n",
        "    r, i, j, k  = init_func(r_weight.size(0), r_weight.size(1), rng, kernel_size, init_criterion)\n",
        "    r, i, j, k  = torch.from_numpy(r), torch.from_numpy(i), torch.from_numpy(j), torch.from_numpy(k)\n",
        "    r_weight.data = r.type_as(r_weight.data)\n",
        "    i_weight.data = i.type_as(i_weight.data)\n",
        "    j_weight.data = j.type_as(j_weight.data)\n",
        "    k_weight.data = k.type_as(k_weight.data)\n",
        "\n",
        "\n",
        "def affect_init_conv(r_weight, i_weight, j_weight, k_weight, kernel_size, init_func, rng,\n",
        "                     init_criterion):\n",
        "    if r_weight.size() != i_weight.size() or r_weight.size() != j_weight.size() or \\\n",
        "    r_weight.size() != k_weight.size() :\n",
        "         raise ValueError('The real and imaginary weights '\n",
        "                 'should have the same size . Found: r:'\n",
        "                 + str(r_weight.size()) +' i:'\n",
        "                 + str(i_weight.size()) +' j:'\n",
        "                 + str(j_weight.size()) +' k:'\n",
        "                 + str(k_weight.size()))\n",
        "\n",
        "    elif 2 >= r_weight.dim():\n",
        "        raise Exception('affect_conv_init accepts only tensors that have more than 2 dimensions. Found dimension = '\n",
        "                        + str(real_weight.dim()))\n",
        "\n",
        "    r, i, j, k = init_func(\n",
        "        r_weight.size(1),\n",
        "        r_weight.size(0),\n",
        "        rng=rng,\n",
        "        kernel_size=kernel_size,\n",
        "        criterion=init_criterion\n",
        "    )\n",
        "    r, i, j, k = torch.from_numpy(r), torch.from_numpy(i), torch.from_numpy(j), torch.from_numpy(k)\n",
        "    r_weight.data = r.type_as(r_weight.data)\n",
        "    i_weight.data = i.type_as(i_weight.data)\n",
        "    j_weight.data = j.type_as(j_weight.data)\n",
        "    k_weight.data = k.type_as(k_weight.data)\n",
        "\n",
        "def get_kernel_and_weight_shape(operation, in_channels, out_channels, kernel_size):\n",
        "    if operation == 'convolution1d':\n",
        "        if type(kernel_size) is not int:\n",
        "            raise ValueError(\n",
        "                \"\"\"An invalid kernel_size was supplied for a 1d convolution. The kernel size\n",
        "                must be integer in the case. Found kernel_size = \"\"\" + str(kernel_size)\n",
        "            )\n",
        "        else:\n",
        "            ks = kernel_size\n",
        "            w_shape = (out_channels, in_channels) + tuple((ks,))\n",
        "    else:# in case it is 2d or 3d.\n",
        "        if   operation == 'convolution2d' and type(kernel_size) is int:\n",
        "            ks = (kernel_size, kernel_size)\n",
        "        elif operation == 'convolution3d' and type(kernel_size) is int:\n",
        "            ks = (kernel_size, kernel_size, kernel_size)\n",
        "        elif type(kernel_size) is not int:\n",
        "            if   operation == 'convolution2d' and len(kernel_size) != 2:\n",
        "                raise ValueError(\n",
        "                    \"\"\"An invalid kernel_size was supplied for a 2d convolution. The kernel size\n",
        "                    must be either an integer or a tuple of 2. Found kernel_size = \"\"\" + str(kernel_size)\n",
        "                )\n",
        "            elif operation == 'convolution3d' and len(kernel_size) != 3:\n",
        "                raise ValueError(\n",
        "                    \"\"\"An invalid kernel_size was supplied for a 3d convolution. The kernel size\n",
        "                    must be either an integer or a tuple of 3. Found kernel_size = \"\"\" + str(kernel_size)\n",
        "                )\n",
        "            else:\n",
        "                ks = kernel_size\n",
        "        w_shape = (out_channels, in_channels) + (*ks,)\n",
        "    return ks, w_shape"
      ],
      "metadata": {
        "id": "sjNMdWdnfryn"
      },
      "execution_count": null,
      "outputs": []
    },
    {
      "cell_type": "markdown",
      "source": [
        "# Setup the quaternion layers\n",
        "core_qnn/quaternion_layers.py\n"
      ],
      "metadata": {
        "id": "ST8EI9T-dRme"
      }
    },
    {
      "cell_type": "code",
      "source": [
        "class QuaternionTransposeConv(Module):\n",
        "    r\"\"\"Applies a Quaternion Transposed Convolution (or Deconvolution) to the incoming data.\n",
        "    \"\"\"\n",
        "\n",
        "    def __init__(self, in_channels, out_channels, kernel_size, stride,\n",
        "                 dilatation=1, padding=0, output_padding=0, groups=1, bias=True, init_criterion='he',\n",
        "                 weight_init='quaternion', seed=None, operation='convolution2d', rotation=False,\n",
        "                 quaternion_format=False):\n",
        "\n",
        "        super(QuaternionTransposeConv, self).__init__()\n",
        "\n",
        "        self.in_channels       = in_channels  // 4\n",
        "        self.out_channels      = out_channels // 4\n",
        "        self.stride            = stride\n",
        "        self.padding           = padding\n",
        "        self.output_padding    = output_padding\n",
        "        self.groups            = groups\n",
        "        self.dilatation        = dilatation\n",
        "        self.init_criterion    = init_criterion\n",
        "        self.weight_init       = weight_init\n",
        "        self.seed              = seed if seed is not None else np.random.randint(0,1234)\n",
        "        self.rng               = RandomState(self.seed)\n",
        "        self.operation         = operation\n",
        "        self.rotation          = rotation\n",
        "        self.quaternion_format = quaternion_format\n",
        "        self.winit             = {'quaternion': quaternion_init,\n",
        "                                  'unitary'   : unitary_init,\n",
        "                                  'random'    : random_init}[self.weight_init]\n",
        "\n",
        "\n",
        "        (self.kernel_size, self.w_shape) = get_kernel_and_weight_shape( self.operation,\n",
        "            self.out_channels, self.in_channels, kernel_size )\n",
        "\n",
        "        self.r_weight  = Parameter(torch.Tensor(*self.w_shape))\n",
        "        self.i_weight  = Parameter(torch.Tensor(*self.w_shape))\n",
        "        self.j_weight  = Parameter(torch.Tensor(*self.w_shape))\n",
        "        self.k_weight  = Parameter(torch.Tensor(*self.w_shape))\n",
        "\n",
        "\n",
        "        if bias:\n",
        "            self.bias = Parameter(torch.Tensor(out_channels))\n",
        "        else:\n",
        "            self.register_parameter('bias', None)\n",
        "        self.reset_parameters()\n",
        "\n",
        "    def reset_parameters(self):\n",
        "        affect_init_conv(self.r_weight, self.i_weight, self.j_weight, self.k_weight,\n",
        "                    self.kernel_size, self.winit, self.rng, self.init_criterion)\n",
        "        if self.bias is not None:\n",
        "           self.bias.data.zero_()\n",
        "\n",
        "    def forward(self, input):\n",
        "\n",
        "        if self.rotation:\n",
        "            return quaternion_tranpose_conv_rotation(input, self.r_weight, self.i_weight,\n",
        "                self.j_weight, self.k_weight, self.bias, self.stride, self.padding,\n",
        "                self.output_padding, self.groups, self.dilatation, self.quaternion_format)\n",
        "        else:\n",
        "            return quaternion_transpose_conv(input, self.r_weight, self.i_weight, self.j_weight,\n",
        "                self.k_weight, self.bias, self.stride, self.padding, self.output_padding,\n",
        "                self.groups, self.dilatation)\n",
        "\n",
        "\n",
        "    def __repr__(self):\n",
        "        return self.__class__.__name__ + '(' \\\n",
        "            + 'in_channels='      + str(self.in_channels) \\\n",
        "            + ', out_channels='   + str(self.out_channels) \\\n",
        "            + ', bias='           + str(self.bias is not None) \\\n",
        "            + ', kernel_size='    + str(self.kernel_size) \\\n",
        "            + ', stride='         + str(self.stride) \\\n",
        "            + ', padding='        + str(self.padding) \\\n",
        "            + ', dilation='       + str(self.dilation) \\\n",
        "            + ', init_criterion=' + str(self.init_criterion) \\\n",
        "            + ', weight_init='    + str(self.weight_init) \\\n",
        "            + ', seed='           + str(self.seed) \\\n",
        "            + ', operation='      + str(self.operation) + ')'"
      ],
      "metadata": {
        "id": "DEloN1wpdFm1"
      },
      "execution_count": null,
      "outputs": []
    },
    {
      "cell_type": "code",
      "source": [
        "class QuaternionConv(Module):\n",
        "    r\"\"\"Applies a Quaternion Convolution to the incoming data.\n",
        "    \"\"\"\n",
        "\n",
        "    def __init__(self, in_channels, out_channels, kernel_size, stride,\n",
        "                 dilatation=1, padding=0, groups=1, bias=True, init_criterion='glorot',\n",
        "                 weight_init='quaternion', seed=None, operation='convolution2d', rotation=False, quaternion_format=True, scale=False):\n",
        "\n",
        "        super(QuaternionConv, self).__init__()\n",
        "\n",
        "        self.in_channels       = in_channels  // 4\n",
        "        self.out_channels      = out_channels // 4\n",
        "        self.stride            = stride\n",
        "        self.padding           = padding\n",
        "        self.groups            = groups\n",
        "        self.dilatation        = dilatation\n",
        "        self.init_criterion    = init_criterion\n",
        "        self.weight_init       = weight_init\n",
        "        self.seed              = seed if seed is not None else np.random.randint(0,1234)\n",
        "        self.rng               = RandomState(self.seed)\n",
        "        self.operation         = operation\n",
        "        self.rotation          = rotation\n",
        "        self.quaternion_format = quaternion_format\n",
        "        self.winit             =    {'quaternion': quaternion_init,\n",
        "                                     'unitary'   : unitary_init,\n",
        "                                     'random'    : random_init}[self.weight_init]\n",
        "        self.scale             = scale\n",
        "\n",
        "\n",
        "        (self.kernel_size, self.w_shape) = get_kernel_and_weight_shape( self.operation,\n",
        "            self.in_channels, self.out_channels, kernel_size )\n",
        "\n",
        "        self.r_weight  = Parameter(torch.Tensor(*self.w_shape))\n",
        "        self.i_weight  = Parameter(torch.Tensor(*self.w_shape))\n",
        "        self.j_weight  = Parameter(torch.Tensor(*self.w_shape))\n",
        "        self.k_weight  = Parameter(torch.Tensor(*self.w_shape))\n",
        "\n",
        "        if self.scale:\n",
        "            self.scale_param  = Parameter(torch.Tensor(self.r_weight.shape))\n",
        "        else:\n",
        "            self.scale_param  = None\n",
        "\n",
        "        if self.rotation:\n",
        "            self.zero_kernel = Parameter(torch.zeros(self.r_weight.shape), requires_grad=False)\n",
        "        if bias:\n",
        "            self.bias = Parameter(torch.Tensor(out_channels))\n",
        "        else:\n",
        "            self.register_parameter('bias', None)\n",
        "        self.reset_parameters()\n",
        "\n",
        "    def reset_parameters(self):\n",
        "        affect_init_conv(self.r_weight, self.i_weight, self.j_weight, self.k_weight,\n",
        "                    self.kernel_size, self.winit, self.rng, self.init_criterion)\n",
        "        if self.scale_param is not None:\n",
        "            torch.nn.init.xavier_uniform_(self.scale_param.data)\n",
        "        if self.bias is not None:\n",
        "           self.bias.data.zero_()\n",
        "\n",
        "    def forward(self, input):\n",
        "\n",
        "\n",
        "        if self.rotation:\n",
        "            return quaternion_conv_rotation(input, self.zero_kernel, self.r_weight, self.i_weight, self.j_weight,\n",
        "                self.k_weight, self.bias, self.stride, self.padding, self.groups, self.dilatation,\n",
        "                self.quaternion_format, self.scale_param)\n",
        "        else:\n",
        "            return quaternion_conv(input, self.r_weight, self.i_weight, self.j_weight,\n",
        "                self.k_weight, self.bias, self.stride, self.padding, self.groups, self.dilatation)\n",
        "\n",
        "\n",
        "    def __repr__(self):\n",
        "        return self.__class__.__name__ + '(' \\\n",
        "            + 'in_channels='      + str(self.in_channels) \\\n",
        "            + ', out_channels='   + str(self.out_channels) \\\n",
        "            + ', bias='           + str(self.bias is not None) \\\n",
        "            + ', kernel_size='    + str(self.kernel_size) \\\n",
        "            + ', stride='         + str(self.stride) \\\n",
        "            + ', padding='        + str(self.padding) \\\n",
        "            + ', init_criterion=' + str(self.init_criterion) \\\n",
        "            + ', weight_init='    + str(self.weight_init) \\\n",
        "            + ', seed='           + str(self.seed) \\\n",
        "            + ', rotation='       + str(self.rotation) \\\n",
        "            + ', q_format='       + str(self.quaternion_format) \\\n",
        "            + ', operation='      + str(self.operation) + ')'"
      ],
      "metadata": {
        "id": "vig8w0BgdJuD"
      },
      "execution_count": null,
      "outputs": []
    },
    {
      "cell_type": "code",
      "source": [
        "class QuaternionLinearAutograd(Module):\n",
        "    r\"\"\"Applies a quaternion linear transformation to the incoming data. A custom\n",
        "    Autograd function is call to drastically reduce the VRAM consumption. Nonetheless, computing\n",
        "    time is also slower compared to QuaternionLinear().\n",
        "    \"\"\"\n",
        "\n",
        "    def __init__(self, in_features, out_features, bias=True,\n",
        "                 init_criterion='glorot', weight_init='quaternion',\n",
        "                 seed=None, rotation=False, quaternion_format=True, scale=False):\n",
        "\n",
        "        super(QuaternionLinearAutograd, self).__init__()\n",
        "        self.in_features       = in_features//4\n",
        "        self.out_features      = out_features//4\n",
        "        self.rotation          = rotation\n",
        "        self.quaternion_format = quaternion_format\n",
        "        self.r_weight = Parameter(torch.Tensor(self.in_features, self.out_features))\n",
        "        self.i_weight = Parameter(torch.Tensor(self.in_features, self.out_features))\n",
        "        self.j_weight = Parameter(torch.Tensor(self.in_features, self.out_features))\n",
        "        self.k_weight = Parameter(torch.Tensor(self.in_features, self.out_features))\n",
        "        self.scale    = scale\n",
        "\n",
        "        if self.scale:\n",
        "            self.scale_param  = Parameter(torch.Tensor(self.in_features, self.out_features))\n",
        "        else:\n",
        "            self.scale_param  = None\n",
        "\n",
        "        if self.rotation:\n",
        "            self.zero_kernel  = Parameter(torch.zeros(self.r_weight.shape), requires_grad=False)\n",
        "\n",
        "        if bias:\n",
        "            self.bias = Parameter(torch.Tensor(self.out_features*4))\n",
        "        else:\n",
        "            self.register_parameter('bias', None)\n",
        "        self.init_criterion = init_criterion\n",
        "        self.weight_init = weight_init\n",
        "        self.seed = seed if seed is not None else np.random.randint(0,1234)\n",
        "        self.rng = RandomState(self.seed)\n",
        "        self.reset_parameters()\n",
        "\n",
        "    def reset_parameters(self):\n",
        "        winit = {'quaternion': quaternion_init, 'unitary': unitary_init, 'random': random_init}[self.weight_init]\n",
        "        if self.scale_param is not None:\n",
        "            torch.nn.init.xavier_uniform_(self.scale_param.data)\n",
        "        if self.bias is not None:\n",
        "            self.bias.data.fill_(0)\n",
        "        affect_init(self.r_weight, self.i_weight, self.j_weight, self.k_weight, winit,\n",
        "                    self.rng, self.init_criterion)\n",
        "\n",
        "    def forward(self, input):\n",
        "        # See the autograd section for explanation of what happens here.\n",
        "        if self.rotation:\n",
        "            return quaternion_linear_rotation(input, self.zero_kernel, self.r_weight, self.i_weight, self.j_weight, self.k_weight, self.bias, self.quaternion_format, self.scale_param)\n",
        "        else:\n",
        "            return quaternion_linear(input, self.r_weight, self.i_weight, self.j_weight, self.k_weight, self.bias)\n",
        "\n",
        "    def __repr__(self):\n",
        "        return self.__class__.__name__ + '(' \\\n",
        "            + 'in_features=' + str(self.in_features) \\\n",
        "            + ', out_features=' + str(self.out_features) \\\n",
        "            + ', bias=' + str(self.bias is not None) \\\n",
        "            + ', init_criterion=' + str(self.init_criterion) \\\n",
        "            + ', weight_init=' + str(self.weight_init) \\\n",
        "            + ', rotation='       + str(self.rotation) \\\n",
        "            + ', seed=' + str(self.seed) + ')'"
      ],
      "metadata": {
        "id": "EpTeIdM2dNiE"
      },
      "execution_count": null,
      "outputs": []
    },
    {
      "cell_type": "code",
      "source": [
        "class QuaternionLinear(Module):\n",
        "    r\"\"\"Applies a quaternion linear transformation to the incoming data.\n",
        "    \"\"\"\n",
        "\n",
        "    def __init__(self, in_features, out_features, bias=True,\n",
        "                 init_criterion='he', weight_init='quaternion',\n",
        "                 seed=None):\n",
        "\n",
        "        super(QuaternionLinear, self).__init__()\n",
        "        self.in_features  = in_features//4\n",
        "        self.out_features = out_features//4\n",
        "        self.r_weight     = Parameter(torch.Tensor(self.in_features, self.out_features))\n",
        "        self.i_weight     = Parameter(torch.Tensor(self.in_features, self.out_features))\n",
        "        self.j_weight     = Parameter(torch.Tensor(self.in_features, self.out_features))\n",
        "        self.k_weight     = Parameter(torch.Tensor(self.in_features, self.out_features))\n",
        "\n",
        "        if bias:\n",
        "            self.bias     = Parameter(torch.Tensor(self.out_features*4))\n",
        "        else:\n",
        "            self.register_parameter('bias', None)\n",
        "\n",
        "        self.init_criterion = init_criterion\n",
        "        self.weight_init    = weight_init\n",
        "        self.seed           = seed if seed is not None else np.random.randint(0,1234)\n",
        "        self.rng            = RandomState(self.seed)\n",
        "        self.reset_parameters()\n",
        "\n",
        "    def reset_parameters(self):\n",
        "        winit = {'quaternion': quaternion_init,\n",
        "                 'unitary': unitary_init}[self.weight_init]\n",
        "        if self.bias is not None:\n",
        "            self.bias.data.fill_(0)\n",
        "        affect_init(self.r_weight, self.i_weight, self.j_weight, self.k_weight, winit,\n",
        "                    self.rng, self.init_criterion)\n",
        "\n",
        "    def forward(self, input):\n",
        "        # See the autograd section for explanation of what happens here.\n",
        "        if input.dim() == 3:\n",
        "            T, N, C = input.size()\n",
        "            input  = input.view(T * N, C)\n",
        "            output = QuaternionLinearFunction.apply(input, self.r_weight, self.i_weight, self.j_weight, self.k_weight, self.bias)\n",
        "            output = output.view(T, N, output.size(1))\n",
        "        elif input.dim() == 2:\n",
        "            output = QuaternionLinearFunction.apply(input, self.r_weight, self.i_weight, self.j_weight, self.k_weight, self.bias)\n",
        "        else:\n",
        "            raise NotImplementedError\n",
        "\n",
        "        return output\n",
        "\n",
        "    def __repr__(self):\n",
        "        return self.__class__.__name__ + '(' \\\n",
        "            + 'in_features=' + str(self.in_features) \\\n",
        "            + ', out_features=' + str(self.out_features) \\\n",
        "            + ', bias=' + str(self.bias is not None) \\\n",
        "            + ', init_criterion=' + str(self.init_criterion) \\\n",
        "            + ', weight_init=' + str(self.weight_init) \\\n",
        "            + ', seed=' + str(self.seed) + ')'"
      ],
      "metadata": {
        "id": "E8D6OEFGdPnM"
      },
      "execution_count": null,
      "outputs": []
    },
    {
      "cell_type": "markdown",
      "source": [
        "# Reimplementation\n",
        "## Import required packages"
      ],
      "metadata": {
        "id": "47cABIb1orZW"
      }
    },
    {
      "cell_type": "code",
      "source": [
        "# Import packages to import Cifar\n",
        "from torchvision.datasets import CIFAR10\n",
        "# from torchvision.transforms import ToTensor\n",
        "from torch.utils.data.dataloader import DataLoader\n",
        "from torch.utils.data import random_split\n",
        "import matplotlib.pyplot as plt\n",
        "from torchvision.utils import make_grid\n",
        "from torchsummary import summary\n",
        "from tqdm import tqdm"
      ],
      "metadata": {
        "id": "JfQ78J9ZrG3d"
      },
      "execution_count": null,
      "outputs": []
    },
    {
      "cell_type": "markdown",
      "source": [
        "## Import CIFAR"
      ],
      "metadata": {
        "id": "nZLGsmNS6RtN"
      }
    },
    {
      "cell_type": "code",
      "source": [
        "# Import Cifar10\n",
        "import torchvision.transforms as transforms\n",
        "\n",
        "def convert_to_quaternion(batch):\n",
        "  new_batch = torch.empty(len(batch), 4, 32, 32)\n",
        "  labels = torch.LongTensor(len(batch))\n",
        "\n",
        "  # Transform images to quaternion matrices\n",
        "  for i in range(len(batch)):\n",
        "    image, label = batch[i][0], batch[i][1]\n",
        "    real = torch.zeros(32, 32)\n",
        "    new_image = torch.cat((image, real.unsqueeze(0)), dim=0)\n",
        "    new_batch[i, :, :, :] = new_image\n",
        "    labels[i] = label\n",
        "\n",
        "  return new_batch, labels\n",
        "\n",
        "transform = transforms.Compose([\n",
        "    transforms.ToTensor(),\n",
        "    transforms.RandomAffine(degrees = 0, translate = (0.1, 0.1)),\n",
        "    transforms.RandomHorizontalFlip(0.5)\n",
        "])\n",
        "\n",
        "train_dataset = CIFAR10(root='data/', download=True, transform=transform)\n",
        "test_dataset = CIFAR10(root='data/', train=False, transform=transforms.ToTensor())\n",
        "\n",
        "torch.manual_seed(43)\n",
        "val_size = 0\n",
        "train_size = len(train_dataset) - val_size\n",
        "\n",
        "train_dataset, val_dataset = random_split(train_dataset, [train_size, val_size])\n",
        "\n",
        "##############################################################################\n",
        "# These values are directly copied from the Keras tensorflow implementation. #\n",
        "##############################################################################\n",
        "batch_size = 32\n",
        "\n",
        "num_predictions = 20\n",
        "# save_dir = os.path.join(os.getcwd(), 'saved_models')\n",
        "model_name = 'keras_cifar10_trained_model_Q_REIMPLEMENTATION.h5'\n",
        "\n",
        "# TODO:\n",
        "# - they split the data into categorical data. Do we have to do this too?\n",
        "# - Transfor data in pytorch, equaivilant of the data_agumentation in Tensorflow.\n",
        "\n",
        "##############################################################################\n",
        "# END END                                                                    #\n",
        "##############################################################################\n",
        "\n",
        "quaternion = False\n",
        "if quaternion:\n",
        "  train_loader = DataLoader(train_dataset, batch_size, shuffle=True, \n",
        "                          collate_fn=convert_to_quaternion)\n",
        "  test_loader = DataLoader(test_dataset, batch_size*2, num_workers=2, \n",
        "                         pin_memory=True, collate_fn=convert_to_quaternion)\n",
        "else:\n",
        "  train_loader = DataLoader(train_dataset, batch_size, shuffle=True)\n",
        "  test_loader = DataLoader(test_dataset, batch_size*2, num_workers=2, \n",
        "                         pin_memory=True)\n",
        "\n",
        "dataiter = iter(train_loader)\n",
        "images, labels = next(dataiter)"
      ],
      "metadata": {
        "colab": {
          "base_uri": "https://localhost:8080/",
          "height": 86,
          "referenced_widgets": [
            "e2e72471fdda4a7dab5c3b0fb62fb1a3",
            "3a84ba0083e44e3dabda469955121d0f",
            "7644e8416c60424296a581cb67860851",
            "39eb1eb091444e819ff8cb0b2a00f2b5",
            "cbf221ec26354f7b94aaa1e39aa48f97",
            "52e1620b60174c3b8abf8535d4fd9d0b",
            "af85fe4cc741497a9d07d4c55fd27d9a",
            "6d9df0f6820342f3a65e5b391d2f781f",
            "a79371d0b981469e8a7906e432f13288",
            "e166b204898f459bbcd426797597a2dd",
            "50f9026e6b1249bd981ee4e60c248f6c"
          ]
        },
        "id": "WOyuqd8VompS",
        "outputId": "ec313b75-4f68-40b7-9eac-77b25d181fe4"
      },
      "execution_count": null,
      "outputs": [
        {
          "output_type": "stream",
          "name": "stdout",
          "text": [
            "Downloading https://www.cs.toronto.edu/~kriz/cifar-10-python.tar.gz to data/cifar-10-python.tar.gz\n"
          ]
        },
        {
          "output_type": "display_data",
          "data": {
            "text/plain": [
              "  0%|          | 0/170498071 [00:00<?, ?it/s]"
            ],
            "application/vnd.jupyter.widget-view+json": {
              "version_major": 2,
              "version_minor": 0,
              "model_id": "e2e72471fdda4a7dab5c3b0fb62fb1a3"
            }
          },
          "metadata": {}
        },
        {
          "output_type": "stream",
          "name": "stdout",
          "text": [
            "Extracting data/cifar-10-python.tar.gz to data/\n"
          ]
        }
      ]
    },
    {
      "cell_type": "code",
      "source": [
        "print(len(train_dataset))\n",
        "print(len(test_dataset))"
      ],
      "metadata": {
        "colab": {
          "base_uri": "https://localhost:8080/"
        },
        "id": "GpY_B-OK3xXY",
        "outputId": "7e35af8e-7083-48d0-fa6a-cc602d07bc25"
      },
      "execution_count": null,
      "outputs": [
        {
          "output_type": "stream",
          "name": "stdout",
          "text": [
            "50000\n",
            "10000\n"
          ]
        }
      ]
    },
    {
      "cell_type": "code",
      "source": [
        "def try_gpu():\n",
        "    \"\"\"\n",
        "    If GPU is available, return torch.device as cuda:0; else return torch.device\n",
        "    as cpu.\n",
        "    \"\"\"\n",
        "    if torch.cuda.is_available():\n",
        "      print(\"Training on GPU\")\n",
        "      device = torch.device('cuda:0')\n",
        "    else:\n",
        "      print(\"Training on CPU\")\n",
        "      device = torch.device('cpu')\n",
        "    return device"
      ],
      "metadata": {
        "id": "Cnu54RHkFUae"
      },
      "execution_count": null,
      "outputs": []
    },
    {
      "cell_type": "markdown",
      "source": [
        "## Implement baseline \n",
        "referred in the paper as \"real-valued CNN\""
      ],
      "metadata": {
        "id": "3Qwh2dFIrONV"
      }
    },
    {
      "cell_type": "code",
      "source": [
        "class CNN(nn.Module):\n",
        "    \"\"\"\n",
        "    3-layer CNN network with max pooling\n",
        "    \n",
        "    Args:\n",
        "        in_channels: number of features of the input image (\"depth of image\")\n",
        "        hidden_channels: number of hidden features (\"depth of convolved images\")\n",
        "        out_features: number of features in output layer\n",
        "    \"\"\"\n",
        "    \n",
        "    def __init__(self, in_channels: int, hidden_channels, out_features: int, kernel_size: int):\n",
        "        super(CNN, self).__init__()\n",
        "\n",
        "        self.net = nn.Sequential(\n",
        "          # block 1\n",
        "          nn.Conv2d(in_channels, hidden_channels[0], kernel_size, padding=1),\n",
        "          nn.ReLU(),\n",
        "          nn.Conv2d(hidden_channels[0], hidden_channels[1], kernel_size),\n",
        "          nn.ReLU(),\n",
        "          nn.MaxPool2d(2, stride=2),\n",
        "          torch.nn.Dropout(p=0.25),\n",
        "\n",
        "          # block 2\n",
        "          nn.Conv2d(hidden_channels[1], hidden_channels[2], kernel_size, padding=1),\n",
        "          nn.ReLU(),\n",
        "          nn.Conv2d(hidden_channels[2], hidden_channels[3], kernel_size),\n",
        "          nn.ReLU(),\n",
        "          nn.MaxPool2d(2, stride=2),\n",
        "          torch.nn.Dropout(p=0.25),\n",
        "\n",
        "          # block 3\n",
        "          nn.Flatten(),\n",
        "          nn.Linear(2304, 512),\n",
        "          nn.ReLU(),\n",
        "          nn.Dropout(0.5),\n",
        "          nn.Linear(512, out_features),\n",
        "          nn.Softmax()\n",
        "        )\n",
        "    \n",
        "    def accuracy(self, outputs, labels):\n",
        "      _, preds = torch.max(outputs, dim=1)\n",
        "\n",
        "      return torch.tensor(torch.sum(preds == labels).item() / len(preds))\n",
        "\n",
        "    def training_step(self, batch):\n",
        "      images, labels = batch\n",
        "      images, labels = images.to(device), labels.to(device)\n",
        "      out = self(images)                  # Generate predictions\n",
        "      loss = F.cross_entropy(out, labels) # Calculate loss\n",
        "      accu = self.accuracy(out,labels)\n",
        "\n",
        "      return loss, accu\n",
        "\n",
        "    def validation_step(self, batch):\n",
        "        images, labels = batch\n",
        "        images, labels = images.to(device), labels.to(device)\n",
        "        out = self(images)                    # Generate predictions\n",
        "        loss = F.cross_entropy(out, labels)   # Calculate loss\n",
        "        acc = self.accuracy(out, labels)           # Calculate accuracy\n",
        "\n",
        "        return loss.detach(), acc\n",
        "    \n",
        "    def epoch_end(self, epoch, train_acc, train_loss, test_acc, test_loss):\n",
        "        print(\"Epoch :\",epoch + 1)\n",
        "        print(f'Train Accuracy:{train_acc*100:.2f}% Validation Accuracy:{test_acc*100:.2f}%')\n",
        "        print(f'Train Loss:{train_loss:.4f} Validation Loss:{test_loss:.4f}')\n",
        "\n",
        "    def forward(self, x):\n",
        "      return self.net.forward(x)\n",
        "      \n"
      ],
      "metadata": {
        "id": "3dnAyWlOmJR1"
      },
      "execution_count": null,
      "outputs": []
    },
    {
      "cell_type": "markdown",
      "source": [
        "## Implement QNN"
      ],
      "metadata": {
        "id": "A9YpyaJa9Shj"
      }
    },
    {
      "cell_type": "code",
      "source": [
        "class QNN(nn.Module):\n",
        "    def __init__(self, in_channels, hidden_channels, out_features, kernel_size = 3):\n",
        "        super(QNN, self).__init__()\n",
        "    \n",
        "        self.net = nn.Sequential(\n",
        "            # Padding\n",
        "            QuaternionConv(in_channels, hidden_channels[0], \n",
        "                                     kernel_size, padding=1, stride=1),\n",
        "            nn.ReLU(),\n",
        "            QuaternionConv(hidden_channels[0], hidden_channels[1],\n",
        "                              kernel_size, stride=1),\n",
        "            nn.ReLU(),\n",
        "            nn.MaxPool2d(2),\n",
        "            torch.nn.Dropout(p=0.25),\n",
        "\n",
        "            QuaternionConv(hidden_channels[1], hidden_channels[2],\n",
        "                              kernel_size, padding=1, stride=1),\n",
        "            nn.ReLU(),\n",
        "            QuaternionConv(hidden_channels[2], hidden_channels[3],\n",
        "                              kernel_size, stride=1),\n",
        "            nn.ReLU(),\n",
        "            nn.MaxPool2d(2),\n",
        "            torch.nn.Dropout(p=0.25),\n",
        "\n",
        "            nn.Flatten(),\n",
        "            # QDense\n",
        "            QuaternionLinear(2304, 512),\n",
        "            nn.ReLU(),\n",
        "            nn.Dropout(0.5),\n",
        "            # Dense\n",
        "            nn.Linear(512, out_features),\n",
        "            nn.Softmax()\n",
        "        )\n",
        "    \n",
        "    def accuracy(self, outputs, labels):\n",
        "      _, preds = torch.max(outputs, dim=1)\n",
        "\n",
        "      return torch.tensor(torch.sum(preds == labels).item() / len(preds))\n",
        "\n",
        "    def training_step(self, batch):\n",
        "      images, labels = batch\n",
        "      images, labels = images.to(device), labels.to(device)\n",
        "      out = self(images)                  # Generate predictions\n",
        "      loss = F.cross_entropy(out, labels) # Calculate loss\n",
        "      accu = self.accuracy(out, labels)\n",
        "\n",
        "      return loss, accu\n",
        "\n",
        "    def validation_step(self, batch):\n",
        "        images, labels = batch\n",
        "        images, labels = images.to(device), labels.to(device)\n",
        "        out = self(images)                    # Generate predictions\n",
        "        loss = F.cross_entropy(out, labels)   # Calculate loss\n",
        "        acc = self.accuracy(out, labels)           # Calculate accuracy\n",
        "\n",
        "        return loss.detach(), acc\n",
        "    \n",
        "    def epoch_end(self, epoch, train_acc, train_loss, test_acc, test_loss):\n",
        "        print(\"Epoch :\",epoch + 1)\n",
        "        print(f'Train Accuracy:{train_acc*100:.2f}% Validation Accuracy:{test_acc*100:.2f}%')\n",
        "        print(f'Train Loss:{train_loss:.4f} Validation Loss:{test_loss:.4f}')\n",
        "\n",
        "    def forward(self, x):\n",
        "      return self.net.forward(x)"
      ],
      "metadata": {
        "id": "0LFih37j9Yin"
      },
      "execution_count": null,
      "outputs": []
    },
    {
      "cell_type": "code",
      "source": [
        "from torchsummary import summary\n",
        "from torch.optim.lr_scheduler import StepLR\n",
        "\n",
        "if quaternion:\n",
        "  in_channels = 4\n",
        "  hidden_channels = [32, 32, 64, 64]\n",
        "  out_features = 10\n",
        "\n",
        "  net = QNN(in_channels, hidden_channels, out_features)\n",
        "else:\n",
        "  in_channels = 3\n",
        "  hidden_channels = [32, 32, 64, 64]\n",
        "  out_features = 10\n",
        "\n",
        "  net = CNN(in_channels, hidden_channels, out_features, kernel_size=3)\n",
        "  # summary(net, (3, 32, 32))\n",
        "\n",
        "epochs = 80\n",
        "lr=0.0001\n",
        "decay=1e-6\n",
        "optimizer = torch.optim.RMSprop(net.parameters(), lr=lr)\n",
        "scheduler = StepLR(optimizer, step_size=30, gamma=0.1)"
      ],
      "metadata": {
        "id": "bVfEfc079b62"
      },
      "execution_count": null,
      "outputs": []
    },
    {
      "cell_type": "markdown",
      "source": [
        "## Training loop"
      ],
      "metadata": {
        "id": "93IZgCMq8avy"
      }
    },
    {
      "cell_type": "code",
      "source": [
        "from statistics import mean\n",
        "\n",
        "running_loss = 0\n",
        "train_losses = []\n",
        "train_accuracy = []\n",
        "test_accs = []\n",
        "\n",
        "# learning rate decay\n",
        "# weight initialization\n",
        "\n",
        "device = try_gpu()\n",
        "\n",
        "@torch.no_grad()\n",
        "def evaluate(model, data_loader):\n",
        "    model.eval()\n",
        "    batch_losses = []\n",
        "    batch_acc = []\n",
        "    for batch in data_loader:\n",
        "      loss, acc = model.validation_step(batch)\n",
        "      batch_losses.append(loss.item())\n",
        "      batch_acc.append(acc.item())\n",
        "    return mean(batch_losses), mean(batch_acc)\n",
        "\n",
        "best_valid = None\n",
        "train_losses = []\n",
        "train_accuracies = []\n",
        "test_losses = []\n",
        "test_accuracies = []\n",
        "\n",
        "for epoch in range(epochs):\n",
        "    print(\"Epoch \" + str(epoch))\n",
        "\n",
        "    # Network in training mode and to device\n",
        "    net.train()\n",
        "    net.to(device)\n",
        "\n",
        "    # Training loop\n",
        "    for batch in tqdm(train_loader):\n",
        "        loss, accu = net.training_step(batch)\n",
        "        loss.backward()\n",
        "        optimizer.step()\n",
        "        optimizer.zero_grad()\n",
        "\n",
        "        running_loss += loss.cpu().item()\n",
        "\n",
        "    # Validation\n",
        "    test_loss, test_acc = evaluate(net, test_loader)\n",
        "    train_loss, train_acc = evaluate(net, train_loader)\n",
        "\n",
        "    train_losses.append(train_loss)\n",
        "    train_accuracies.append(train_acc)\n",
        "    test_losses.append(test_loss)\n",
        "    test_accuracies.append(test_acc)\n",
        "\n",
        "    # Learning rate decay\n",
        "    # scheduler.step()\n",
        "\n",
        "    net.epoch_end(epoch, train_acc, train_loss, test_acc, test_loss)\n",
        "    if (best_valid == None or best_valid < test_acc):\n",
        "        best_valid = test_acc\n",
        "        torch.save(net.state_dict(), 'cifar10-cnn.pth')\n",
        "\n",
        "    print(\"\\n\")"
      ],
      "metadata": {
        "colab": {
          "base_uri": "https://localhost:8080/"
        },
        "id": "x89xT1MF4wjh",
        "outputId": "4bbf182b-22ef-4a2d-a1a4-06b30d9dc6be",
        "collapsed": true
      },
      "execution_count": null,
      "outputs": [
        {
          "output_type": "stream",
          "name": "stdout",
          "text": [
            "Training on GPU\n",
            "Epoch 0\n"
          ]
        },
        {
          "output_type": "stream",
          "name": "stderr",
          "text": [
            "\r  0%|          | 0/1563 [00:00<?, ?it/s]/usr/local/lib/python3.8/dist-packages/torch/nn/modules/container.py:204: UserWarning: Implicit dimension choice for softmax has been deprecated. Change the call to include dim=X as an argument.\n",
            "  input = module(input)\n",
            "100%|██████████| 1563/1563 [00:50<00:00, 30.97it/s]\n"
          ]
        },
        {
          "output_type": "stream",
          "name": "stdout",
          "text": [
            "Epoch : 1\n",
            "Train Accuracy:28.99% Validation Accuracy:30.18%\n",
            "Train Loss:2.1557 Validation Loss:2.1422\n",
            "\n",
            "\n",
            "Epoch 1\n"
          ]
        },
        {
          "output_type": "stream",
          "name": "stderr",
          "text": [
            "100%|██████████| 1563/1563 [00:44<00:00, 34.74it/s]\n"
          ]
        },
        {
          "output_type": "stream",
          "name": "stdout",
          "text": [
            "Epoch : 2\n",
            "Train Accuracy:34.52% Validation Accuracy:36.63%\n",
            "Train Loss:2.1082 Validation Loss:2.0905\n",
            "\n",
            "\n",
            "Epoch 2\n"
          ]
        },
        {
          "output_type": "stream",
          "name": "stderr",
          "text": [
            "100%|██████████| 1563/1563 [00:44<00:00, 34.89it/s]\n"
          ]
        },
        {
          "output_type": "stream",
          "name": "stdout",
          "text": [
            "Epoch : 3\n",
            "Train Accuracy:36.64% Validation Accuracy:39.50%\n",
            "Train Loss:2.0864 Validation Loss:2.0631\n",
            "\n",
            "\n",
            "Epoch 3\n"
          ]
        },
        {
          "output_type": "stream",
          "name": "stderr",
          "text": [
            "100%|██████████| 1563/1563 [00:44<00:00, 34.74it/s]\n"
          ]
        },
        {
          "output_type": "stream",
          "name": "stdout",
          "text": [
            "Epoch : 4\n",
            "Train Accuracy:38.58% Validation Accuracy:40.47%\n",
            "Train Loss:2.0668 Validation Loss:2.0478\n",
            "\n",
            "\n",
            "Epoch 4\n"
          ]
        },
        {
          "output_type": "stream",
          "name": "stderr",
          "text": [
            "100%|██████████| 1563/1563 [00:45<00:00, 34.73it/s]\n"
          ]
        },
        {
          "output_type": "stream",
          "name": "stdout",
          "text": [
            "Epoch : 5\n",
            "Train Accuracy:41.06% Validation Accuracy:42.88%\n",
            "Train Loss:2.0441 Validation Loss:2.0232\n",
            "\n",
            "\n",
            "Epoch 5\n"
          ]
        },
        {
          "output_type": "stream",
          "name": "stderr",
          "text": [
            "100%|██████████| 1563/1563 [00:45<00:00, 34.06it/s]\n"
          ]
        },
        {
          "output_type": "stream",
          "name": "stdout",
          "text": [
            "Epoch : 6\n",
            "Train Accuracy:42.46% Validation Accuracy:43.46%\n",
            "Train Loss:2.0315 Validation Loss:2.0194\n",
            "\n",
            "\n",
            "Epoch 6\n"
          ]
        },
        {
          "output_type": "stream",
          "name": "stderr",
          "text": [
            "100%|██████████| 1563/1563 [00:46<00:00, 33.89it/s]\n"
          ]
        },
        {
          "output_type": "stream",
          "name": "stdout",
          "text": [
            "Epoch : 7\n",
            "Train Accuracy:44.51% Validation Accuracy:45.82%\n",
            "Train Loss:2.0121 Validation Loss:1.9993\n",
            "\n",
            "\n",
            "Epoch 7\n"
          ]
        },
        {
          "output_type": "stream",
          "name": "stderr",
          "text": [
            "100%|██████████| 1563/1563 [00:45<00:00, 34.12it/s]\n"
          ]
        },
        {
          "output_type": "stream",
          "name": "stdout",
          "text": [
            "Epoch : 8\n",
            "Train Accuracy:45.70% Validation Accuracy:47.23%\n",
            "Train Loss:2.0003 Validation Loss:1.9860\n",
            "\n",
            "\n",
            "Epoch 8\n"
          ]
        },
        {
          "output_type": "stream",
          "name": "stderr",
          "text": [
            "100%|██████████| 1563/1563 [00:45<00:00, 34.05it/s]\n"
          ]
        },
        {
          "output_type": "stream",
          "name": "stdout",
          "text": [
            "Epoch : 9\n",
            "Train Accuracy:47.70% Validation Accuracy:48.87%\n",
            "Train Loss:1.9825 Validation Loss:1.9688\n",
            "\n",
            "\n",
            "Epoch 9\n"
          ]
        },
        {
          "output_type": "stream",
          "name": "stderr",
          "text": [
            "100%|██████████| 1563/1563 [00:46<00:00, 33.84it/s]\n"
          ]
        },
        {
          "output_type": "stream",
          "name": "stdout",
          "text": [
            "Epoch : 10\n",
            "Train Accuracy:48.03% Validation Accuracy:50.03%\n",
            "Train Loss:1.9761 Validation Loss:1.9570\n",
            "\n",
            "\n",
            "Epoch 10\n"
          ]
        },
        {
          "output_type": "stream",
          "name": "stderr",
          "text": [
            "100%|██████████| 1563/1563 [00:45<00:00, 34.05it/s]\n"
          ]
        },
        {
          "output_type": "stream",
          "name": "stdout",
          "text": [
            "Epoch : 11\n",
            "Train Accuracy:49.47% Validation Accuracy:51.34%\n",
            "Train Loss:1.9647 Validation Loss:1.9463\n",
            "\n",
            "\n",
            "Epoch 11\n"
          ]
        },
        {
          "output_type": "stream",
          "name": "stderr",
          "text": [
            "100%|██████████| 1563/1563 [00:45<00:00, 34.28it/s]\n"
          ]
        },
        {
          "output_type": "stream",
          "name": "stdout",
          "text": [
            "Epoch : 12\n",
            "Train Accuracy:49.42% Validation Accuracy:50.60%\n",
            "Train Loss:1.9636 Validation Loss:1.9526\n",
            "\n",
            "\n",
            "Epoch 12\n"
          ]
        },
        {
          "output_type": "stream",
          "name": "stderr",
          "text": [
            "100%|██████████| 1563/1563 [00:45<00:00, 34.39it/s]\n"
          ]
        },
        {
          "output_type": "stream",
          "name": "stdout",
          "text": [
            "Epoch : 13\n",
            "Train Accuracy:52.13% Validation Accuracy:54.44%\n",
            "Train Loss:1.9381 Validation Loss:1.9154\n",
            "\n",
            "\n",
            "Epoch 13\n"
          ]
        },
        {
          "output_type": "stream",
          "name": "stderr",
          "text": [
            "100%|██████████| 1563/1563 [00:45<00:00, 34.01it/s]\n"
          ]
        },
        {
          "output_type": "stream",
          "name": "stdout",
          "text": [
            "Epoch : 14\n",
            "Train Accuracy:53.34% Validation Accuracy:55.74%\n",
            "Train Loss:1.9264 Validation Loss:1.9035\n",
            "\n",
            "\n",
            "Epoch 14\n"
          ]
        },
        {
          "output_type": "stream",
          "name": "stderr",
          "text": [
            "100%|██████████| 1563/1563 [00:45<00:00, 34.31it/s]\n"
          ]
        },
        {
          "output_type": "stream",
          "name": "stdout",
          "text": [
            "Epoch : 15\n",
            "Train Accuracy:53.81% Validation Accuracy:55.80%\n",
            "Train Loss:1.9212 Validation Loss:1.9003\n",
            "\n",
            "\n",
            "Epoch 15\n"
          ]
        },
        {
          "output_type": "stream",
          "name": "stderr",
          "text": [
            "100%|██████████| 1563/1563 [00:45<00:00, 34.10it/s]\n"
          ]
        },
        {
          "output_type": "stream",
          "name": "stdout",
          "text": [
            "Epoch : 16\n",
            "Train Accuracy:53.59% Validation Accuracy:55.78%\n",
            "Train Loss:1.9234 Validation Loss:1.9008\n",
            "\n",
            "\n",
            "Epoch 16\n"
          ]
        },
        {
          "output_type": "stream",
          "name": "stderr",
          "text": [
            "100%|██████████| 1563/1563 [00:45<00:00, 34.17it/s]\n"
          ]
        },
        {
          "output_type": "stream",
          "name": "stdout",
          "text": [
            "Epoch : 17\n",
            "Train Accuracy:56.59% Validation Accuracy:58.29%\n",
            "Train Loss:1.8954 Validation Loss:1.8777\n",
            "\n",
            "\n",
            "Epoch 17\n"
          ]
        },
        {
          "output_type": "stream",
          "name": "stderr",
          "text": [
            "100%|██████████| 1563/1563 [00:46<00:00, 33.85it/s]\n"
          ]
        },
        {
          "output_type": "stream",
          "name": "stdout",
          "text": [
            "Epoch : 18\n",
            "Train Accuracy:57.00% Validation Accuracy:58.81%\n",
            "Train Loss:1.8903 Validation Loss:1.8713\n",
            "\n",
            "\n",
            "Epoch 18\n"
          ]
        },
        {
          "output_type": "stream",
          "name": "stderr",
          "text": [
            "100%|██████████| 1563/1563 [00:46<00:00, 33.85it/s]\n"
          ]
        },
        {
          "output_type": "stream",
          "name": "stdout",
          "text": [
            "Epoch : 19\n",
            "Train Accuracy:57.53% Validation Accuracy:59.34%\n",
            "Train Loss:1.8851 Validation Loss:1.8652\n",
            "\n",
            "\n",
            "Epoch 19\n"
          ]
        },
        {
          "output_type": "stream",
          "name": "stderr",
          "text": [
            "100%|██████████| 1563/1563 [00:45<00:00, 34.20it/s]\n"
          ]
        },
        {
          "output_type": "stream",
          "name": "stdout",
          "text": [
            "Epoch : 20\n",
            "Train Accuracy:58.66% Validation Accuracy:60.09%\n",
            "Train Loss:1.8744 Validation Loss:1.8594\n",
            "\n",
            "\n",
            "Epoch 20\n"
          ]
        },
        {
          "output_type": "stream",
          "name": "stderr",
          "text": [
            "100%|██████████| 1563/1563 [00:45<00:00, 34.04it/s]\n"
          ]
        },
        {
          "output_type": "stream",
          "name": "stdout",
          "text": [
            "Epoch : 21\n",
            "Train Accuracy:58.88% Validation Accuracy:60.77%\n",
            "Train Loss:1.8706 Validation Loss:1.8547\n",
            "\n",
            "\n",
            "Epoch 21\n"
          ]
        },
        {
          "output_type": "stream",
          "name": "stderr",
          "text": [
            "100%|██████████| 1563/1563 [00:45<00:00, 34.23it/s]\n"
          ]
        },
        {
          "output_type": "stream",
          "name": "stdout",
          "text": [
            "Epoch : 22\n",
            "Train Accuracy:58.13% Validation Accuracy:59.54%\n",
            "Train Loss:1.8790 Validation Loss:1.8634\n",
            "\n",
            "\n",
            "Epoch 22\n"
          ]
        },
        {
          "output_type": "stream",
          "name": "stderr",
          "text": [
            "100%|██████████| 1563/1563 [00:45<00:00, 34.00it/s]\n"
          ]
        },
        {
          "output_type": "stream",
          "name": "stdout",
          "text": [
            "Epoch : 23\n",
            "Train Accuracy:60.65% Validation Accuracy:62.23%\n",
            "Train Loss:1.8545 Validation Loss:1.8370\n",
            "\n",
            "\n",
            "Epoch 23\n"
          ]
        },
        {
          "output_type": "stream",
          "name": "stderr",
          "text": [
            "100%|██████████| 1563/1563 [00:45<00:00, 34.27it/s]\n"
          ]
        },
        {
          "output_type": "stream",
          "name": "stdout",
          "text": [
            "Epoch : 24\n",
            "Train Accuracy:60.03% Validation Accuracy:62.13%\n",
            "Train Loss:1.8602 Validation Loss:1.8395\n",
            "\n",
            "\n",
            "Epoch 24\n"
          ]
        },
        {
          "output_type": "stream",
          "name": "stderr",
          "text": [
            "100%|██████████| 1563/1563 [00:45<00:00, 34.19it/s]\n"
          ]
        },
        {
          "output_type": "stream",
          "name": "stdout",
          "text": [
            "Epoch : 25\n",
            "Train Accuracy:61.83% Validation Accuracy:63.47%\n",
            "Train Loss:1.8437 Validation Loss:1.8277\n",
            "\n",
            "\n",
            "Epoch 25\n"
          ]
        },
        {
          "output_type": "stream",
          "name": "stderr",
          "text": [
            "100%|██████████| 1563/1563 [00:45<00:00, 33.98it/s]\n"
          ]
        },
        {
          "output_type": "stream",
          "name": "stdout",
          "text": [
            "Epoch : 26\n",
            "Train Accuracy:61.88% Validation Accuracy:63.58%\n",
            "Train Loss:1.8425 Validation Loss:1.8246\n",
            "\n",
            "\n",
            "Epoch 26\n"
          ]
        },
        {
          "output_type": "stream",
          "name": "stderr",
          "text": [
            "100%|██████████| 1563/1563 [00:45<00:00, 34.41it/s]\n"
          ]
        },
        {
          "output_type": "stream",
          "name": "stdout",
          "text": [
            "Epoch : 27\n",
            "Train Accuracy:62.57% Validation Accuracy:63.91%\n",
            "Train Loss:1.8347 Validation Loss:1.8198\n",
            "\n",
            "\n",
            "Epoch 27\n"
          ]
        },
        {
          "output_type": "stream",
          "name": "stderr",
          "text": [
            "100%|██████████| 1563/1563 [00:45<00:00, 34.31it/s]\n"
          ]
        },
        {
          "output_type": "stream",
          "name": "stdout",
          "text": [
            "Epoch : 28\n",
            "Train Accuracy:62.70% Validation Accuracy:64.12%\n",
            "Train Loss:1.8338 Validation Loss:1.8209\n",
            "\n",
            "\n",
            "Epoch 28\n"
          ]
        },
        {
          "output_type": "stream",
          "name": "stderr",
          "text": [
            "100%|██████████| 1563/1563 [00:45<00:00, 34.36it/s]\n"
          ]
        },
        {
          "output_type": "stream",
          "name": "stdout",
          "text": [
            "Epoch : 29\n",
            "Train Accuracy:63.39% Validation Accuracy:64.80%\n",
            "Train Loss:1.8271 Validation Loss:1.8122\n",
            "\n",
            "\n",
            "Epoch 29\n"
          ]
        },
        {
          "output_type": "stream",
          "name": "stderr",
          "text": [
            "100%|██████████| 1563/1563 [00:45<00:00, 34.38it/s]\n"
          ]
        },
        {
          "output_type": "stream",
          "name": "stdout",
          "text": [
            "Epoch : 30\n",
            "Train Accuracy:63.49% Validation Accuracy:65.38%\n",
            "Train Loss:1.8257 Validation Loss:1.8091\n",
            "\n",
            "\n",
            "Epoch 30\n"
          ]
        },
        {
          "output_type": "stream",
          "name": "stderr",
          "text": [
            "100%|██████████| 1563/1563 [00:45<00:00, 34.40it/s]\n"
          ]
        },
        {
          "output_type": "stream",
          "name": "stdout",
          "text": [
            "Epoch : 31\n",
            "Train Accuracy:64.72% Validation Accuracy:65.97%\n",
            "Train Loss:1.8154 Validation Loss:1.8017\n",
            "\n",
            "\n",
            "Epoch 31\n"
          ]
        },
        {
          "output_type": "stream",
          "name": "stderr",
          "text": [
            "100%|██████████| 1563/1563 [00:45<00:00, 34.42it/s]\n"
          ]
        },
        {
          "output_type": "stream",
          "name": "stdout",
          "text": [
            "Epoch : 32\n",
            "Train Accuracy:65.44% Validation Accuracy:66.76%\n",
            "Train Loss:1.8078 Validation Loss:1.7937\n",
            "\n",
            "\n",
            "Epoch 32\n"
          ]
        },
        {
          "output_type": "stream",
          "name": "stderr",
          "text": [
            "100%|██████████| 1563/1563 [00:45<00:00, 34.43it/s]\n"
          ]
        },
        {
          "output_type": "stream",
          "name": "stdout",
          "text": [
            "Epoch : 33\n",
            "Train Accuracy:65.07% Validation Accuracy:66.31%\n",
            "Train Loss:1.8108 Validation Loss:1.7980\n",
            "\n",
            "\n",
            "Epoch 33\n"
          ]
        },
        {
          "output_type": "stream",
          "name": "stderr",
          "text": [
            "100%|██████████| 1563/1563 [00:45<00:00, 34.39it/s]\n"
          ]
        },
        {
          "output_type": "stream",
          "name": "stdout",
          "text": [
            "Epoch : 34\n",
            "Train Accuracy:65.02% Validation Accuracy:66.73%\n",
            "Train Loss:1.8108 Validation Loss:1.7961\n",
            "\n",
            "\n",
            "Epoch 34\n"
          ]
        },
        {
          "output_type": "stream",
          "name": "stderr",
          "text": [
            "100%|██████████| 1563/1563 [00:45<00:00, 34.48it/s]\n"
          ]
        },
        {
          "output_type": "stream",
          "name": "stdout",
          "text": [
            "Epoch : 35\n",
            "Train Accuracy:66.47% Validation Accuracy:67.16%\n",
            "Train Loss:1.7961 Validation Loss:1.7884\n",
            "\n",
            "\n",
            "Epoch 35\n"
          ]
        },
        {
          "output_type": "stream",
          "name": "stderr",
          "text": [
            "100%|██████████| 1563/1563 [00:45<00:00, 34.13it/s]\n"
          ]
        },
        {
          "output_type": "stream",
          "name": "stdout",
          "text": [
            "Epoch : 36\n",
            "Train Accuracy:67.09% Validation Accuracy:67.74%\n",
            "Train Loss:1.7907 Validation Loss:1.7821\n",
            "\n",
            "\n",
            "Epoch 36\n"
          ]
        },
        {
          "output_type": "stream",
          "name": "stderr",
          "text": [
            "100%|██████████| 1563/1563 [00:45<00:00, 34.21it/s]\n"
          ]
        },
        {
          "output_type": "stream",
          "name": "stdout",
          "text": [
            "Epoch : 37\n",
            "Train Accuracy:66.93% Validation Accuracy:68.45%\n",
            "Train Loss:1.7925 Validation Loss:1.7790\n",
            "\n",
            "\n",
            "Epoch 37\n"
          ]
        },
        {
          "output_type": "stream",
          "name": "stderr",
          "text": [
            "100%|██████████| 1563/1563 [00:45<00:00, 34.50it/s]\n"
          ]
        },
        {
          "output_type": "stream",
          "name": "stdout",
          "text": [
            "Epoch : 38\n",
            "Train Accuracy:67.90% Validation Accuracy:68.63%\n",
            "Train Loss:1.7826 Validation Loss:1.7727\n",
            "\n",
            "\n",
            "Epoch 38\n"
          ]
        },
        {
          "output_type": "stream",
          "name": "stderr",
          "text": [
            "100%|██████████| 1563/1563 [00:45<00:00, 34.65it/s]\n"
          ]
        },
        {
          "output_type": "stream",
          "name": "stdout",
          "text": [
            "Epoch : 39\n",
            "Train Accuracy:67.81% Validation Accuracy:68.57%\n",
            "Train Loss:1.7829 Validation Loss:1.7740\n",
            "\n",
            "\n",
            "Epoch 39\n"
          ]
        },
        {
          "output_type": "stream",
          "name": "stderr",
          "text": [
            "100%|██████████| 1563/1563 [00:45<00:00, 34.59it/s]\n"
          ]
        },
        {
          "output_type": "stream",
          "name": "stdout",
          "text": [
            "Epoch : 40\n",
            "Train Accuracy:68.53% Validation Accuracy:69.32%\n",
            "Train Loss:1.7765 Validation Loss:1.7676\n",
            "\n",
            "\n",
            "Epoch 40\n"
          ]
        },
        {
          "output_type": "stream",
          "name": "stderr",
          "text": [
            "100%|██████████| 1563/1563 [00:45<00:00, 34.35it/s]\n"
          ]
        },
        {
          "output_type": "stream",
          "name": "stdout",
          "text": [
            "Epoch : 41\n",
            "Train Accuracy:68.60% Validation Accuracy:69.39%\n",
            "Train Loss:1.7751 Validation Loss:1.7666\n",
            "\n",
            "\n",
            "Epoch 41\n"
          ]
        },
        {
          "output_type": "stream",
          "name": "stderr",
          "text": [
            "100%|██████████| 1563/1563 [00:45<00:00, 34.53it/s]\n"
          ]
        },
        {
          "output_type": "stream",
          "name": "stdout",
          "text": [
            "Epoch : 42\n",
            "Train Accuracy:68.94% Validation Accuracy:69.99%\n",
            "Train Loss:1.7727 Validation Loss:1.7612\n",
            "\n",
            "\n",
            "Epoch 42\n"
          ]
        },
        {
          "output_type": "stream",
          "name": "stderr",
          "text": [
            "100%|██████████| 1563/1563 [00:45<00:00, 34.44it/s]\n"
          ]
        },
        {
          "output_type": "stream",
          "name": "stdout",
          "text": [
            "Epoch : 43\n",
            "Train Accuracy:68.97% Validation Accuracy:69.58%\n",
            "Train Loss:1.7711 Validation Loss:1.7656\n",
            "\n",
            "\n",
            "Epoch 43\n"
          ]
        },
        {
          "output_type": "stream",
          "name": "stderr",
          "text": [
            "100%|██████████| 1563/1563 [00:45<00:00, 34.57it/s]\n"
          ]
        },
        {
          "output_type": "stream",
          "name": "stdout",
          "text": [
            "Epoch : 44\n",
            "Train Accuracy:69.89% Validation Accuracy:70.54%\n",
            "Train Loss:1.7633 Validation Loss:1.7580\n",
            "\n",
            "\n",
            "Epoch 44\n"
          ]
        },
        {
          "output_type": "stream",
          "name": "stderr",
          "text": [
            "100%|██████████| 1563/1563 [00:45<00:00, 34.51it/s]\n"
          ]
        },
        {
          "output_type": "stream",
          "name": "stdout",
          "text": [
            "Epoch : 45\n",
            "Train Accuracy:69.99% Validation Accuracy:70.60%\n",
            "Train Loss:1.7622 Validation Loss:1.7566\n",
            "\n",
            "\n",
            "Epoch 45\n"
          ]
        },
        {
          "output_type": "stream",
          "name": "stderr",
          "text": [
            "100%|██████████| 1563/1563 [00:45<00:00, 34.33it/s]\n"
          ]
        },
        {
          "output_type": "stream",
          "name": "stdout",
          "text": [
            "Epoch : 46\n",
            "Train Accuracy:70.39% Validation Accuracy:70.57%\n",
            "Train Loss:1.7576 Validation Loss:1.7525\n",
            "\n",
            "\n",
            "Epoch 46\n"
          ]
        },
        {
          "output_type": "stream",
          "name": "stderr",
          "text": [
            "100%|██████████| 1563/1563 [00:45<00:00, 34.66it/s]\n"
          ]
        },
        {
          "output_type": "stream",
          "name": "stdout",
          "text": [
            "Epoch : 47\n",
            "Train Accuracy:70.88% Validation Accuracy:71.88%\n",
            "Train Loss:1.7530 Validation Loss:1.7457\n",
            "\n",
            "\n",
            "Epoch 47\n"
          ]
        },
        {
          "output_type": "stream",
          "name": "stderr",
          "text": [
            "100%|██████████| 1563/1563 [00:44<00:00, 34.77it/s]\n"
          ]
        },
        {
          "output_type": "stream",
          "name": "stdout",
          "text": [
            "Epoch : 48\n",
            "Train Accuracy:71.14% Validation Accuracy:72.05%\n",
            "Train Loss:1.7512 Validation Loss:1.7428\n",
            "\n",
            "\n",
            "Epoch 48\n"
          ]
        },
        {
          "output_type": "stream",
          "name": "stderr",
          "text": [
            "100%|██████████| 1563/1563 [00:44<00:00, 35.18it/s]\n"
          ]
        },
        {
          "output_type": "stream",
          "name": "stdout",
          "text": [
            "Epoch : 49\n",
            "Train Accuracy:71.13% Validation Accuracy:71.77%\n",
            "Train Loss:1.7514 Validation Loss:1.7459\n",
            "\n",
            "\n",
            "Epoch 49\n"
          ]
        },
        {
          "output_type": "stream",
          "name": "stderr",
          "text": [
            "100%|██████████| 1563/1563 [00:44<00:00, 35.12it/s]\n"
          ]
        },
        {
          "output_type": "stream",
          "name": "stdout",
          "text": [
            "Epoch : 50\n",
            "Train Accuracy:72.38% Validation Accuracy:72.59%\n",
            "Train Loss:1.7383 Validation Loss:1.7355\n",
            "\n",
            "\n",
            "Epoch 50\n"
          ]
        },
        {
          "output_type": "stream",
          "name": "stderr",
          "text": [
            "100%|██████████| 1563/1563 [00:45<00:00, 34.65it/s]\n"
          ]
        },
        {
          "output_type": "stream",
          "name": "stdout",
          "text": [
            "Epoch : 51\n",
            "Train Accuracy:70.78% Validation Accuracy:70.93%\n",
            "Train Loss:1.7539 Validation Loss:1.7508\n",
            "\n",
            "\n",
            "Epoch 51\n"
          ]
        },
        {
          "output_type": "stream",
          "name": "stderr",
          "text": [
            "100%|██████████| 1563/1563 [00:44<00:00, 34.95it/s]\n"
          ]
        },
        {
          "output_type": "stream",
          "name": "stdout",
          "text": [
            "Epoch : 52\n",
            "Train Accuracy:71.38% Validation Accuracy:71.64%\n",
            "Train Loss:1.7484 Validation Loss:1.7447\n",
            "\n",
            "\n",
            "Epoch 52\n"
          ]
        },
        {
          "output_type": "stream",
          "name": "stderr",
          "text": [
            "100%|██████████| 1563/1563 [00:44<00:00, 35.20it/s]\n"
          ]
        },
        {
          "output_type": "stream",
          "name": "stdout",
          "text": [
            "Epoch : 53\n",
            "Train Accuracy:72.79% Validation Accuracy:73.13%\n",
            "Train Loss:1.7352 Validation Loss:1.7306\n",
            "\n",
            "\n",
            "Epoch 53\n"
          ]
        },
        {
          "output_type": "stream",
          "name": "stderr",
          "text": [
            "100%|██████████| 1563/1563 [00:44<00:00, 35.04it/s]\n"
          ]
        },
        {
          "output_type": "stream",
          "name": "stdout",
          "text": [
            "Epoch : 54\n",
            "Train Accuracy:72.34% Validation Accuracy:72.22%\n",
            "Train Loss:1.7384 Validation Loss:1.7371\n",
            "\n",
            "\n",
            "Epoch 54\n"
          ]
        },
        {
          "output_type": "stream",
          "name": "stderr",
          "text": [
            "100%|██████████| 1563/1563 [00:44<00:00, 34.75it/s]\n"
          ]
        },
        {
          "output_type": "stream",
          "name": "stdout",
          "text": [
            "Epoch : 55\n",
            "Train Accuracy:72.10% Validation Accuracy:72.48%\n",
            "Train Loss:1.7400 Validation Loss:1.7363\n",
            "\n",
            "\n",
            "Epoch 55\n"
          ]
        },
        {
          "output_type": "stream",
          "name": "stderr",
          "text": [
            "100%|██████████| 1563/1563 [00:44<00:00, 34.96it/s]\n"
          ]
        },
        {
          "output_type": "stream",
          "name": "stdout",
          "text": [
            "Epoch : 56\n",
            "Train Accuracy:73.04% Validation Accuracy:72.91%\n",
            "Train Loss:1.7310 Validation Loss:1.7318\n",
            "\n",
            "\n",
            "Epoch 56\n"
          ]
        },
        {
          "output_type": "stream",
          "name": "stderr",
          "text": [
            "100%|██████████| 1563/1563 [00:44<00:00, 34.95it/s]\n"
          ]
        },
        {
          "output_type": "stream",
          "name": "stdout",
          "text": [
            "Epoch : 57\n",
            "Train Accuracy:73.87% Validation Accuracy:73.89%\n",
            "Train Loss:1.7237 Validation Loss:1.7228\n",
            "\n",
            "\n",
            "Epoch 57\n"
          ]
        },
        {
          "output_type": "stream",
          "name": "stderr",
          "text": [
            "100%|██████████| 1563/1563 [00:44<00:00, 34.94it/s]\n"
          ]
        },
        {
          "output_type": "stream",
          "name": "stdout",
          "text": [
            "Epoch : 58\n",
            "Train Accuracy:72.28% Validation Accuracy:72.62%\n",
            "Train Loss:1.7378 Validation Loss:1.7339\n",
            "\n",
            "\n",
            "Epoch 58\n"
          ]
        },
        {
          "output_type": "stream",
          "name": "stderr",
          "text": [
            "100%|██████████| 1563/1563 [00:44<00:00, 34.87it/s]\n"
          ]
        },
        {
          "output_type": "stream",
          "name": "stdout",
          "text": [
            "Epoch : 59\n",
            "Train Accuracy:73.60% Validation Accuracy:73.77%\n",
            "Train Loss:1.7256 Validation Loss:1.7229\n",
            "\n",
            "\n",
            "Epoch 59\n"
          ]
        },
        {
          "output_type": "stream",
          "name": "stderr",
          "text": [
            "100%|██████████| 1563/1563 [00:45<00:00, 34.65it/s]\n"
          ]
        },
        {
          "output_type": "stream",
          "name": "stdout",
          "text": [
            "Epoch : 60\n",
            "Train Accuracy:74.42% Validation Accuracy:74.16%\n",
            "Train Loss:1.7180 Validation Loss:1.7180\n",
            "\n",
            "\n",
            "Epoch 60\n"
          ]
        },
        {
          "output_type": "stream",
          "name": "stderr",
          "text": [
            "100%|██████████| 1563/1563 [00:44<00:00, 35.31it/s]\n"
          ]
        },
        {
          "output_type": "stream",
          "name": "stdout",
          "text": [
            "Epoch : 61\n",
            "Train Accuracy:73.61% Validation Accuracy:73.57%\n",
            "Train Loss:1.7257 Validation Loss:1.7249\n",
            "\n",
            "\n",
            "Epoch 61\n"
          ]
        },
        {
          "output_type": "stream",
          "name": "stderr",
          "text": [
            "100%|██████████| 1563/1563 [00:44<00:00, 35.05it/s]\n"
          ]
        },
        {
          "output_type": "stream",
          "name": "stdout",
          "text": [
            "Epoch : 62\n",
            "Train Accuracy:74.65% Validation Accuracy:74.54%\n",
            "Train Loss:1.7157 Validation Loss:1.7169\n",
            "\n",
            "\n",
            "Epoch 62\n"
          ]
        },
        {
          "output_type": "stream",
          "name": "stderr",
          "text": [
            "100%|██████████| 1563/1563 [00:44<00:00, 35.18it/s]\n"
          ]
        },
        {
          "output_type": "stream",
          "name": "stdout",
          "text": [
            "Epoch : 63\n",
            "Train Accuracy:73.65% Validation Accuracy:74.00%\n",
            "Train Loss:1.7248 Validation Loss:1.7217\n",
            "\n",
            "\n",
            "Epoch 63\n"
          ]
        },
        {
          "output_type": "stream",
          "name": "stderr",
          "text": [
            "100%|██████████| 1563/1563 [00:44<00:00, 35.08it/s]\n"
          ]
        },
        {
          "output_type": "stream",
          "name": "stdout",
          "text": [
            "Epoch : 64\n",
            "Train Accuracy:74.44% Validation Accuracy:74.30%\n",
            "Train Loss:1.7169 Validation Loss:1.7184\n",
            "\n",
            "\n",
            "Epoch 64\n"
          ]
        },
        {
          "output_type": "stream",
          "name": "stderr",
          "text": [
            "100%|██████████| 1563/1563 [00:44<00:00, 35.16it/s]\n"
          ]
        },
        {
          "output_type": "stream",
          "name": "stdout",
          "text": [
            "Epoch : 65\n",
            "Train Accuracy:71.88% Validation Accuracy:71.84%\n",
            "Train Loss:1.7419 Validation Loss:1.7423\n",
            "\n",
            "\n",
            "Epoch 65\n"
          ]
        },
        {
          "output_type": "stream",
          "name": "stderr",
          "text": [
            "100%|██████████| 1563/1563 [00:44<00:00, 34.75it/s]\n"
          ]
        },
        {
          "output_type": "stream",
          "name": "stdout",
          "text": [
            "Epoch : 66\n",
            "Train Accuracy:75.42% Validation Accuracy:75.03%\n",
            "Train Loss:1.7078 Validation Loss:1.7105\n",
            "\n",
            "\n",
            "Epoch 66\n"
          ]
        },
        {
          "output_type": "stream",
          "name": "stderr",
          "text": [
            "100%|██████████| 1563/1563 [00:45<00:00, 34.16it/s]\n"
          ]
        },
        {
          "output_type": "stream",
          "name": "stdout",
          "text": [
            "Epoch : 67\n",
            "Train Accuracy:74.07% Validation Accuracy:74.01%\n",
            "Train Loss:1.7211 Validation Loss:1.7211\n",
            "\n",
            "\n",
            "Epoch 67\n"
          ]
        },
        {
          "output_type": "stream",
          "name": "stderr",
          "text": [
            "100%|██████████| 1563/1563 [00:44<00:00, 34.90it/s]\n"
          ]
        },
        {
          "output_type": "stream",
          "name": "stdout",
          "text": [
            "Epoch : 68\n",
            "Train Accuracy:75.18% Validation Accuracy:74.71%\n",
            "Train Loss:1.7096 Validation Loss:1.7143\n",
            "\n",
            "\n",
            "Epoch 68\n"
          ]
        },
        {
          "output_type": "stream",
          "name": "stderr",
          "text": [
            "100%|██████████| 1563/1563 [00:44<00:00, 34.94it/s]\n"
          ]
        },
        {
          "output_type": "stream",
          "name": "stdout",
          "text": [
            "Epoch : 69\n",
            "Train Accuracy:75.11% Validation Accuracy:74.80%\n",
            "Train Loss:1.7106 Validation Loss:1.7135\n",
            "\n",
            "\n",
            "Epoch 69\n"
          ]
        },
        {
          "output_type": "stream",
          "name": "stderr",
          "text": [
            "100%|██████████| 1563/1563 [00:45<00:00, 34.53it/s]\n"
          ]
        },
        {
          "output_type": "stream",
          "name": "stdout",
          "text": [
            "Epoch : 70\n",
            "Train Accuracy:75.33% Validation Accuracy:74.83%\n",
            "Train Loss:1.7083 Validation Loss:1.7118\n",
            "\n",
            "\n",
            "Epoch 70\n"
          ]
        },
        {
          "output_type": "stream",
          "name": "stderr",
          "text": [
            "100%|██████████| 1563/1563 [00:44<00:00, 34.78it/s]\n"
          ]
        },
        {
          "output_type": "stream",
          "name": "stdout",
          "text": [
            "Epoch : 71\n",
            "Train Accuracy:75.22% Validation Accuracy:75.27%\n",
            "Train Loss:1.7098 Validation Loss:1.7076\n",
            "\n",
            "\n",
            "Epoch 71\n"
          ]
        },
        {
          "output_type": "stream",
          "name": "stderr",
          "text": [
            "100%|██████████| 1563/1563 [00:45<00:00, 34.63it/s]\n"
          ]
        },
        {
          "output_type": "stream",
          "name": "stdout",
          "text": [
            "Epoch : 72\n",
            "Train Accuracy:74.72% Validation Accuracy:75.05%\n",
            "Train Loss:1.7146 Validation Loss:1.7106\n",
            "\n",
            "\n",
            "Epoch 72\n"
          ]
        },
        {
          "output_type": "stream",
          "name": "stderr",
          "text": [
            "100%|██████████| 1563/1563 [00:45<00:00, 34.34it/s]\n"
          ]
        },
        {
          "output_type": "stream",
          "name": "stdout",
          "text": [
            "Epoch : 73\n",
            "Train Accuracy:75.63% Validation Accuracy:75.75%\n",
            "Train Loss:1.7048 Validation Loss:1.7033\n",
            "\n",
            "\n",
            "Epoch 73\n"
          ]
        },
        {
          "output_type": "stream",
          "name": "stderr",
          "text": [
            "100%|██████████| 1563/1563 [00:45<00:00, 34.49it/s]\n"
          ]
        },
        {
          "output_type": "stream",
          "name": "stdout",
          "text": [
            "Epoch : 74\n",
            "Train Accuracy:76.98% Validation Accuracy:76.44%\n",
            "Train Loss:1.6926 Validation Loss:1.6961\n",
            "\n",
            "\n",
            "Epoch 74\n"
          ]
        },
        {
          "output_type": "stream",
          "name": "stderr",
          "text": [
            "100%|██████████| 1563/1563 [00:45<00:00, 34.70it/s]\n"
          ]
        },
        {
          "output_type": "stream",
          "name": "stdout",
          "text": [
            "Epoch : 75\n",
            "Train Accuracy:76.04% Validation Accuracy:75.22%\n",
            "Train Loss:1.7019 Validation Loss:1.7072\n",
            "\n",
            "\n",
            "Epoch 75\n"
          ]
        },
        {
          "output_type": "stream",
          "name": "stderr",
          "text": [
            "100%|██████████| 1563/1563 [00:45<00:00, 34.56it/s]\n"
          ]
        },
        {
          "output_type": "stream",
          "name": "stdout",
          "text": [
            "Epoch : 76\n",
            "Train Accuracy:76.74% Validation Accuracy:76.05%\n",
            "Train Loss:1.6950 Validation Loss:1.7006\n",
            "\n",
            "\n",
            "Epoch 76\n"
          ]
        },
        {
          "output_type": "stream",
          "name": "stderr",
          "text": [
            "100%|██████████| 1563/1563 [00:45<00:00, 34.51it/s]\n"
          ]
        },
        {
          "output_type": "stream",
          "name": "stdout",
          "text": [
            "Epoch : 77\n",
            "Train Accuracy:76.73% Validation Accuracy:76.57%\n",
            "Train Loss:1.6935 Validation Loss:1.6958\n",
            "\n",
            "\n",
            "Epoch 77\n"
          ]
        },
        {
          "output_type": "stream",
          "name": "stderr",
          "text": [
            "100%|██████████| 1563/1563 [00:45<00:00, 34.72it/s]\n"
          ]
        },
        {
          "output_type": "stream",
          "name": "stdout",
          "text": [
            "Epoch : 78\n",
            "Train Accuracy:77.33% Validation Accuracy:76.64%\n",
            "Train Loss:1.6886 Validation Loss:1.6945\n",
            "\n",
            "\n",
            "Epoch 78\n"
          ]
        },
        {
          "output_type": "stream",
          "name": "stderr",
          "text": [
            "100%|██████████| 1563/1563 [00:45<00:00, 34.72it/s]\n"
          ]
        },
        {
          "output_type": "stream",
          "name": "stdout",
          "text": [
            "Epoch : 79\n",
            "Train Accuracy:76.17% Validation Accuracy:75.99%\n",
            "Train Loss:1.7000 Validation Loss:1.7006\n",
            "\n",
            "\n",
            "Epoch 79\n"
          ]
        },
        {
          "output_type": "stream",
          "name": "stderr",
          "text": [
            "100%|██████████| 1563/1563 [00:44<00:00, 35.08it/s]\n"
          ]
        },
        {
          "output_type": "stream",
          "name": "stdout",
          "text": [
            "Epoch : 80\n",
            "Train Accuracy:77.48% Validation Accuracy:77.20%\n",
            "Train Loss:1.6873 Validation Loss:1.6907\n",
            "\n",
            "\n"
          ]
        }
      ]
    },
    {
      "cell_type": "code",
      "source": [
        "import csv\n",
        "\n",
        "def plot_accuracies(train_accuracies, test_accuracies):\n",
        "    plt.plot(train_accuracies, '-rx')\n",
        "    plt.plot(test_accuracies, '-bx')\n",
        "    plt.xlabel('epoch')\n",
        "    plt.ylabel('accuracy')\n",
        "    plt.legend(['Training', 'Validation'])\n",
        "    plt.title('Accuracy vs. No. of epochs')\n",
        "\n",
        "    if quaternion:\n",
        "      with open('qnn', 'w') as f:\n",
        "          # create the csv writer\n",
        "          writer = csv.writer(f)\n",
        "\n",
        "          # write a row to the csv file\n",
        "          writer.writerow(test_accuracies)\n",
        "          writer.writerow(train_losses)\n",
        "    else:\n",
        "      with open('cnn', 'w') as f:\n",
        "          # create the csv writer\n",
        "          writer = csv.writer(f)\n",
        "\n",
        "          # write a row to the csv file\n",
        "          writer.writerow(test_accuracies)\n",
        "          writer.writerow(train_losses)\n",
        "\n",
        "plot_accuracies(train_accuracies, test_accuracies)"
      ],
      "metadata": {
        "id": "l55gqXT3ZVD1",
        "colab": {
          "base_uri": "https://localhost:8080/",
          "height": 295
        },
        "outputId": "0e1676e2-986d-47f4-aeac-b5c8844a912f"
      },
      "execution_count": null,
      "outputs": [
        {
          "output_type": "display_data",
          "data": {
            "text/plain": [
              "<Figure size 432x288 with 1 Axes>"
            ],
            "image/png": "[encoded data removed]"
          },
          "metadata": {
            "needs_background": "light"
          }
        }
      ]
    },
    {
      "cell_type": "markdown",
      "source": [
        "## Plot results of the real-valued CNN"
      ],
      "metadata": {
        "id": "6Twh_ihzJQ0_"
      }
    },
    {
      "cell_type": "code",
      "source": [
        "# Plot training curves\n",
        "plt.figure(figsize=(9,4))\n",
        "plt.subplot(1,2,1)\n",
        "plt.xlabel('Iterations')\n",
        "plt.ylabel('Loss')\n",
        "plt.plot(train_losses)\n",
        "plt.grid()"
      ],
      "metadata": {
        "id": "CBt-mY1uojv2",
        "colab": {
          "base_uri": "https://localhost:8080/",
          "height": 279
        },
        "outputId": "2dd52746-5b28-4f66-fdef-b1206a68ec8b"
      },
      "execution_count": null,
      "outputs": [
        {
          "output_type": "display_data",
          "data": {
            "text/plain": [
              "<Figure size 648x288 with 1 Axes>"
            ],
            "image/png": "[encoded data removed]"
          },
          "metadata": {
            "needs_background": "light"
          }
        }
      ]
    }
  ]
}