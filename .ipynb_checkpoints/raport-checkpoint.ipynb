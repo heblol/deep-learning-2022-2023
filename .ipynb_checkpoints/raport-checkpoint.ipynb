{
 "cells": [
  {
   "cell_type": "markdown",
   "metadata": {},
   "source": [
    "# Quaternion Convolutional Neural Networks: a reproduction\n",
    "This is a reproduction of the paper [Quaternion Convolutional Neural Networks](https://arxiv.org/abs/1903.00658) by students of the Delft University of Technology for the course Deep learning.\n",
    "\n",
    "Reference: group 43\n",
    "\n",
    "Two repositories were used:\n",
    "1. The original repository ([link](https://github.com/XYZ387/QuaternionCNN_Keras/blob/master/cifar10_cnn.py)) and 2. Pytorch implementation of the quaterions ([link](https://github.com/Orkis-Research/Pytorch-Quaternion-Neural-Networks))\n"
   ]
  },
  {
   "cell_type": "code",
   "execution_count": null,
   "metadata": {
    "collapsed": true
   },
   "outputs": [],
   "source": [
    "There is nothing here yet."
   ]
  },
  {
   "cell_type": "code",
   "execution_count": null,
   "metadata": {},
   "outputs": [],
   "source": []
  },
  {
   "cell_type": "markdown",
   "metadata": {},
   "source": []
  }
 ],
 "metadata": {
  "kernelspec": {
   "display_name": "Python 3",
   "language": "python",
   "name": "python3"
  },
  "language_info": {
   "codemirror_mode": {
    "name": "ipython",
    "version": 3
   },
   "file_extension": ".py",
   "mimetype": "text/x-python",
   "name": "python",
   "nbconvert_exporter": "python",
   "pygments_lexer": "ipython3",
   "version": "3.9.16"
  }
 },
 "nbformat": 4,
 "nbformat_minor": 1
}
